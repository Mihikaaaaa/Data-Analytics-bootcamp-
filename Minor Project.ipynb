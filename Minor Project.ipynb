{
 "cells": [
  {
   "cell_type": "code",
   "execution_count": 2,
   "id": "4754d2bf-0cda-46c7-8677-4f5193767895",
   "metadata": {},
   "outputs": [
    {
     "name": "stdin",
     "output_type": "stream",
     "text": [
      "Enter the Product name: Apple\n",
      "Enter the Price: 20\n",
      "Enter the Quantity in Kg: 4\n"
     ]
    },
    {
     "name": "stdout",
     "output_type": "stream",
     "text": [
      "Apple 80\n"
     ]
    }
   ],
   "source": [
    "#Bill Generating\n",
    "Product= str(input(\"Enter the Product name:\"))\n",
    "Price= int(input(\"Enter the Price:\"))\n",
    "Quantity= int(input(\"Enter the Quantity in Kg:\"))\n",
    "Bill= Price*Quantity\n",
    "print(Product, Bill)"
   ]
  },
  {
   "cell_type": "code",
   "execution_count": 3,
   "id": "a5ba3fde-4d05-4f58-90a2-0feb47ff15bb",
   "metadata": {},
   "outputs": [
    {
     "name": "stdin",
     "output_type": "stream",
     "text": [
      "Enter your password haha\n"
     ]
    },
    {
     "name": "stdout",
     "output_type": "stream",
     "text": [
      "Phone unlocked\n"
     ]
    }
   ],
   "source": [
    "#Password\n",
    "Correctpass=\"haha\"\n",
    "maxattempt=3\n",
    "attempt=0\n",
    "while attempt<maxattempt:\n",
    "    user= str(input(\"Enter your password\"))\n",
    "\n",
    "    if user== Correctpass:\n",
    "        print(\"Phone unlocked\")\n",
    "        break\n",
    "    else:\n",
    "        attempt+=1\n",
    "        attemptleft=maxattempt-attempt\n",
    "        if attemptleft>0:\n",
    "            print(f\"Wrong password. You have {attemptleft} attempts left\")\n",
    "        else:\n",
    "            print(\"Phone locked. Try again later\")"
   ]
  },
  {
   "cell_type": "code",
   "execution_count": null,
   "id": "5ea8f50f-d8d1-4928-b8e2-4fdd986fe21d",
   "metadata": {},
   "outputs": [],
   "source": []
  }
 ],
 "metadata": {
  "kernelspec": {
   "display_name": "Python [conda env:base] *",
   "language": "python",
   "name": "conda-base-py"
  },
  "language_info": {
   "codemirror_mode": {
    "name": "ipython",
    "version": 3
   },
   "file_extension": ".py",
   "mimetype": "text/x-python",
   "name": "python",
   "nbconvert_exporter": "python",
   "pygments_lexer": "ipython3",
   "version": "3.13.5"
  }
 },
 "nbformat": 4,
 "nbformat_minor": 5
}
