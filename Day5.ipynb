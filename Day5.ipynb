{
 "cells": [
  {
   "cell_type": "code",
   "execution_count": null,
   "id": "76194726-4ca4-4958-ac4c-69e3efb61603",
   "metadata": {},
   "outputs": [],
   "source": [
    "#Tuple"
   ]
  },
  {
   "cell_type": "code",
   "execution_count": 3,
   "id": "bba6f34b-a09a-4a17-830f-18b8b3913efd",
   "metadata": {},
   "outputs": [
    {
     "data": {
      "text/plain": [
       "3"
      ]
     },
     "execution_count": 3,
     "metadata": {},
     "output_type": "execute_result"
    }
   ],
   "source": [
    "d=tuple('a string with many \"a\"s')\n",
    "d.count('a')"
   ]
  },
  {
   "cell_type": "code",
   "execution_count": null,
   "id": "2d540db8-3df4-4c2a-81be-8e4feca43a2c",
   "metadata": {},
   "outputs": [],
   "source": [
    "#Sets"
   ]
  },
  {
   "cell_type": "code",
   "execution_count": 4,
   "id": "d2756540-ed61-445a-b733-a9f1e3c41da7",
   "metadata": {},
   "outputs": [
    {
     "name": "stdout",
     "output_type": "stream",
     "text": [
      "{1, 2, 3, 4}\n"
     ]
    }
   ],
   "source": [
    "set0 = set([1,2,2,3,3,4])\n",
    "set0 = {1,2,2,3,3,4} \n",
    "print(set0)"
   ]
  },
  {
   "cell_type": "code",
   "execution_count": 6,
   "id": "ec001c44-738e-4969-bacf-cc6112d6920c",
   "metadata": {},
   "outputs": [
    {
     "data": {
      "text/plain": [
       "{1, 2, 3, 4, 5}"
      ]
     },
     "execution_count": 6,
     "metadata": {},
     "output_type": "execute_result"
    }
   ],
   "source": [
    "set1 = set([1,2,3])\n",
    "set2 = set([2,3,4,5])\n",
    "set1.union(set2)"
   ]
  },
  {
   "cell_type": "code",
   "execution_count": 7,
   "id": "07209994-a196-4e65-8eb9-567088b4883a",
   "metadata": {},
   "outputs": [
    {
     "data": {
      "text/plain": [
       "{0, 1, 2, 3}"
      ]
     },
     "execution_count": 7,
     "metadata": {},
     "output_type": "execute_result"
    }
   ],
   "source": [
    "set1.add(0)\n",
    "set1"
   ]
  },
  {
   "cell_type": "code",
   "execution_count": 8,
   "id": "140c7915-8aeb-4aa0-939f-6b81804ced13",
   "metadata": {},
   "outputs": [
    {
     "data": {
      "text/plain": [
       "{2, 3}"
      ]
     },
     "execution_count": 8,
     "metadata": {},
     "output_type": "execute_result"
    }
   ],
   "source": [
    "set1.intersection(set2)"
   ]
  },
  {
   "cell_type": "code",
   "execution_count": 10,
   "id": "47c52093-fdb2-4ece-ac1a-f4b508c75c98",
   "metadata": {},
   "outputs": [
    {
     "data": {
      "text/plain": [
       "{5, 6, 7}"
      ]
     },
     "execution_count": 10,
     "metadata": {},
     "output_type": "execute_result"
    }
   ],
   "source": [
    "set3={1,2,3,4}\n",
    "set4={2,5,6,7}\n",
    "set4.difference(set3)"
   ]
  },
  {
   "cell_type": "code",
   "execution_count": 11,
   "id": "44e72fb9-59b5-4206-bdef-63e9310c0719",
   "metadata": {},
   "outputs": [
    {
     "data": {
      "text/plain": [
       "False"
      ]
     },
     "execution_count": 11,
     "metadata": {},
     "output_type": "execute_result"
    }
   ],
   "source": [
    "set3.issubset(set4)"
   ]
  },
  {
   "cell_type": "code",
   "execution_count": 13,
   "id": "0a8c548b-6c67-4dc3-a328-a9638ef6231b",
   "metadata": {},
   "outputs": [
    {
     "data": {
      "text/plain": [
       "True"
      ]
     },
     "execution_count": 13,
     "metadata": {},
     "output_type": "execute_result"
    }
   ],
   "source": [
    "sett={1,2,3}\n",
    "settt={4,5,6}\n",
    "sett.isdisjoint(settt)  #nothing common"
   ]
  },
  {
   "cell_type": "code",
   "execution_count": null,
   "id": "ad8beffa-fc68-4c53-8964-a39dc0204c17",
   "metadata": {},
   "outputs": [],
   "source": [
    "#Dictionaries"
   ]
  },
  {
   "cell_type": "code",
   "execution_count": null,
   "id": "492616a2-09e0-44db-8f86-79f23d817671",
   "metadata": {},
   "outputs": [],
   "source": [
    "d={\"Key\":\"value\",\"key1\":\"value\"}"
   ]
  },
  {
   "cell_type": "code",
   "execution_count": 42,
   "id": "72850d5c-5226-461f-9f23-531243bad973",
   "metadata": {},
   "outputs": [],
   "source": [
    "student = {\"name\": \"Alice\",  \"subjects\": [\"Math\", \"Science\", \"Computer\"]}"
   ]
  },
  {
   "cell_type": "code",
   "execution_count": 16,
   "id": "5705501a-c38c-4a14-ae70-7bad7e80175f",
   "metadata": {},
   "outputs": [
    {
     "name": "stdout",
     "output_type": "stream",
     "text": [
      "4.0\n"
     ]
    }
   ],
   "source": [
    "a=1\n",
    "b=2\n",
    "c=3\n",
    "print(a+b+c/3)\n"
   ]
  },
  {
   "cell_type": "code",
   "execution_count": 41,
   "id": "1f3b120a-a6df-4680-aeeb-10f0da2e723c",
   "metadata": {},
   "outputs": [
    {
     "name": "stdin",
     "output_type": "stream",
     "text": [
      "Enter number 1:  3\n"
     ]
    },
    {
     "name": "stdout",
     "output_type": "stream",
     "text": [
      "The final list is: [3]\n"
     ]
    },
    {
     "name": "stdin",
     "output_type": "stream",
     "text": [
      "Enter number 2:  4\n"
     ]
    },
    {
     "name": "stdout",
     "output_type": "stream",
     "text": [
      "The final list is: [3, 4]\n"
     ]
    },
    {
     "name": "stdin",
     "output_type": "stream",
     "text": [
      "Enter number 3:  5\n"
     ]
    },
    {
     "name": "stdout",
     "output_type": "stream",
     "text": [
      "The final list is: [3, 4, 5]\n"
     ]
    },
    {
     "name": "stdin",
     "output_type": "stream",
     "text": [
      "Enter number 4:  6\n"
     ]
    },
    {
     "name": "stdout",
     "output_type": "stream",
     "text": [
      "The final list is: [3, 4, 5, 6]\n"
     ]
    },
    {
     "name": "stdin",
     "output_type": "stream",
     "text": [
      "Enter number 5:  7\n"
     ]
    },
    {
     "name": "stdout",
     "output_type": "stream",
     "text": [
      "The final list is: [3, 4, 5, 6, 7]\n"
     ]
    }
   ],
   "source": [
    "#Create an empty list and take 5 numbers as input from the user. Append each number to the list and display the final list.\n",
    "list1=[]\n",
    "for i in range(5):\n",
    "    num = int(input(f\"Enter number {i+1}: \"))\n",
    "    list1.append(num)\n",
    "    print(\"The final list is:\",list1)"
   ]
  },
  {
   "cell_type": "code",
   "execution_count": 38,
   "id": "7777e0c5-7e68-4e7b-a57f-78d1708d5b26",
   "metadata": {},
   "outputs": [
    {
     "name": "stdout",
     "output_type": "stream",
     "text": [
      "Updated List: [1, 2, 3, 4, 5, 6]\n"
     ]
    }
   ],
   "source": [
    "# Create two lists: list1 = [1, 2, 3] and list2 = [4, 5, 6]. Extend list1 using list2 and print the updated list.\n",
    "list1 = [1, 2, 3]\n",
    "list2 = [4, 5, 6]\n",
    "list1.extend(list2)\n",
    "print(\"Updated List:\", list1)"
   ]
  },
  {
   "cell_type": "code",
   "execution_count": 39,
   "id": "8c9ccc17-b794-4586-8b02-6592b037fcc5",
   "metadata": {},
   "outputs": [
    {
     "name": "stdout",
     "output_type": "stream",
     "text": [
      "[10, 20, 25, 30, 40]\n"
     ]
    }
   ],
   "source": [
    "#Insert the value 25 at index 2 in the list: l = [10, 20, 30, 40].\n",
    "l = [10, 20, 30, 40]\n",
    "l.insert(2, 25)\n",
    "print(l)"
   ]
  },
  {
   "cell_type": "code",
   "execution_count": 23,
   "id": "7f66d530-fb18-4796-a9e6-8178f863d1a9",
   "metadata": {},
   "outputs": [
    {
     "name": "stdout",
     "output_type": "stream",
     "text": [
      "[10, 30, 20, 40]\n"
     ]
    }
   ],
   "source": [
    "#Remove the first occurrence of the value 20 from the list: l = [10, 20, 30, 20, 40].\n",
    "l = [10, 20, 30, 20, 40]\n",
    "l.remove(20)\n",
    "print(l)"
   ]
  },
  {
   "cell_type": "code",
   "execution_count": 25,
   "id": "101a51de-a373-49f8-b48d-3919c64e1786",
   "metadata": {},
   "outputs": [
    {
     "name": "stdout",
     "output_type": "stream",
     "text": [
      "Popped Item: 5\n",
      "Updated List: [1, 2, 3, 4]\n"
     ]
    }
   ],
   "source": [
    "#Pop the last element from the list [1, 2, 3, 4, 5] and display both the popped item and the updated list.\n",
    "listt = [1, 2, 3, 4, 5]\n",
    "poppeditem = listt.pop()\n",
    "print(\"Popped Item:\", poppeditem)\n",
    "print(\"Updated List:\", listt)"
   ]
  },
  {
   "cell_type": "code",
   "execution_count": 27,
   "id": "5bd8cb2c-f58b-4bd6-a166-86c109a768f6",
   "metadata": {},
   "outputs": [
    {
     "data": {
      "text/plain": [
       "2"
      ]
     },
     "execution_count": 27,
     "metadata": {},
     "output_type": "execute_result"
    }
   ],
   "source": [
    "#Find and print the index of the element 15 in the list [5, 10, 15, 20, 25].\n",
    "l = [5, 10, 15, 20, 25]\n",
    "l.index(15)"
   ]
  },
  {
   "cell_type": "code",
   "execution_count": 28,
   "id": "e82466c6-ac01-4776-9777-30109a6313e6",
   "metadata": {},
   "outputs": [
    {
     "data": {
      "text/plain": [
       "4"
      ]
     },
     "execution_count": 28,
     "metadata": {},
     "output_type": "execute_result"
    }
   ],
   "source": [
    "#Count how many times the number 2 appears in the list [1, 2, 2, 3, 2, 4, 2].\n",
    "List=[1, 2, 2, 3, 2, 4, 2]\n",
    "List.count(2)"
   ]
  },
  {
   "cell_type": "code",
   "execution_count": 35,
   "id": "2082fe40-137a-4bc1-a509-5513c80937be",
   "metadata": {},
   "outputs": [
    {
     "name": "stdout",
     "output_type": "stream",
     "text": [
      "Ascending order [3, 5, 7, 10]\n",
      "Descending order [10, 7, 5, 3]\n"
     ]
    }
   ],
   "source": [
    "#Sort the list [10, 5, 7, 3] in both ascending and descending order.\n",
    "List=[10, 5, 7, 3]\n",
    "List.sort()\n",
    "print(\"Ascending order\",List)\n",
    "List.sort(reverse=True)\n",
    "print(\"Descending order\",List)"
   ]
  },
  {
   "cell_type": "code",
   "execution_count": 36,
   "id": "ca1dcb6c-8032-4399-89a8-92dab4ae93a0",
   "metadata": {},
   "outputs": [
    {
     "name": "stdout",
     "output_type": "stream",
     "text": [
      "[5, 4, 3, 2, 1]\n"
     ]
    }
   ],
   "source": [
    "#Reverse the list [1, 2, 3, 4, 5] using the reverse() method.\n",
    "List= [1, 2, 3, 4, 5]\n",
    "List.reverse()\n",
    "print(List)"
   ]
  },
  {
   "cell_type": "code",
   "execution_count": null,
   "id": "08482ece-229e-48bc-94b7-98bac3ec701f",
   "metadata": {},
   "outputs": [],
   "source": []
  }
 ],
 "metadata": {
  "kernelspec": {
   "display_name": "Python [conda env:base] *",
   "language": "python",
   "name": "conda-base-py"
  },
  "language_info": {
   "codemirror_mode": {
    "name": "ipython",
    "version": 3
   },
   "file_extension": ".py",
   "mimetype": "text/x-python",
   "name": "python",
   "nbconvert_exporter": "python",
   "pygments_lexer": "ipython3",
   "version": "3.13.5"
  }
 },
 "nbformat": 4,
 "nbformat_minor": 5
}
