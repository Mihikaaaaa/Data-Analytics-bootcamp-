{
 "cells": [
  {
   "cell_type": "code",
   "execution_count": 9,
   "id": "8cbb33b7-2c47-4c06-bc70-8b6aafbb7b47",
   "metadata": {},
   "outputs": [
    {
     "name": "stdin",
     "output_type": "stream",
     "text": [
      "Enter the Product name: Apple\n",
      "Enter the Price: 30\n",
      "Enter the Quantity in Kg: 4\n"
     ]
    },
    {
     "name": "stdout",
     "output_type": "stream",
     "text": [
      "Apple 120\n"
     ]
    }
   ],
   "source": [
    "#Bill Generating\n",
    "Product= str(input(\"Enter the Product name:\"))\n",
    "Price= int(input(\"Enter the Price:\"))\n",
    "Quantity= int(input(\"Enter the Quantity in Kg:\"))\n",
    "Bill= Price*Quantity\n",
    "print(Product, Bill)"
   ]
  },
  {
   "cell_type": "code",
   "execution_count": null,
   "id": "5b44ebb3-c361-4da1-907f-3bab2250f332",
   "metadata": {},
   "outputs": [],
   "source": [
    "#Type Conversion"
   ]
  },
  {
   "cell_type": "code",
   "execution_count": 6,
   "id": "85a3c188-ced6-4fa4-a865-1b44655db5c8",
   "metadata": {},
   "outputs": [
    {
     "name": "stdout",
     "output_type": "stream",
     "text": [
      "16.8\n"
     ]
    }
   ],
   "source": [
    "a=4\n",
    "b=5\n",
    "c=7.8\n",
    "d= a+b+c\n",
    "print(d)"
   ]
  },
  {
   "cell_type": "code",
   "execution_count": 7,
   "id": "6440ae7f-0a74-4257-a1ed-ae23a652f9a3",
   "metadata": {},
   "outputs": [
    {
     "ename": "TypeError",
     "evalue": "unsupported operand type(s) for +: 'int' and 'str'",
     "output_type": "error",
     "traceback": [
      "\u001b[1;31m---------------------------------------------------------------------------\u001b[0m",
      "\u001b[1;31mTypeError\u001b[0m                                 Traceback (most recent call last)",
      "Cell \u001b[1;32mIn[7], line 3\u001b[0m\n\u001b[0;32m      1\u001b[0m a\u001b[38;5;241m=\u001b[39m\u001b[38;5;241m4\u001b[39m\n\u001b[0;32m      2\u001b[0m b\u001b[38;5;241m=\u001b[39m\u001b[38;5;124m\"\u001b[39m\u001b[38;5;124mHi\u001b[39m\u001b[38;5;124m\"\u001b[39m\n\u001b[1;32m----> 3\u001b[0m c\u001b[38;5;241m=\u001b[39ma\u001b[38;5;241m+\u001b[39mb\n\u001b[0;32m      4\u001b[0m \u001b[38;5;28mprint\u001b[39m(c)\n",
      "\u001b[1;31mTypeError\u001b[0m: unsupported operand type(s) for +: 'int' and 'str'"
     ]
    }
   ],
   "source": [
    "a=4\n",
    "b=\"Hi\"\n",
    "c=a+b\n",
    "print(c)"
   ]
  },
  {
   "cell_type": "code",
   "execution_count": 10,
   "id": "da62d738-e25e-4277-866e-a899df6a4665",
   "metadata": {},
   "outputs": [
    {
     "ename": "TypeError",
     "evalue": "unsupported operand type(s) for +: 'int' and 'str'",
     "output_type": "error",
     "traceback": [
      "\u001b[1;31m---------------------------------------------------------------------------\u001b[0m",
      "\u001b[1;31mTypeError\u001b[0m                                 Traceback (most recent call last)",
      "Cell \u001b[1;32mIn[10], line 3\u001b[0m\n\u001b[0;32m      1\u001b[0m a\u001b[38;5;241m=\u001b[39m\u001b[38;5;241m4\u001b[39m\n\u001b[0;32m      2\u001b[0m b\u001b[38;5;241m=\u001b[39m\u001b[38;5;124m\"\u001b[39m\u001b[38;5;124m5\u001b[39m\u001b[38;5;124m\"\u001b[39m\n\u001b[1;32m----> 3\u001b[0m c\u001b[38;5;241m=\u001b[39ma\u001b[38;5;241m+\u001b[39mb\n\u001b[0;32m      4\u001b[0m \u001b[38;5;28mprint\u001b[39m(c)\n",
      "\u001b[1;31mTypeError\u001b[0m: unsupported operand type(s) for +: 'int' and 'str'"
     ]
    }
   ],
   "source": [
    "a=4\n",
    "b=\"5\"\n",
    "c=a+b\n",
    "print(c)"
   ]
  },
  {
   "cell_type": "code",
   "execution_count": null,
   "id": "d73be869-da18-47f5-bd12-dc6e071aaa68",
   "metadata": {},
   "outputs": [],
   "source": [
    "#Control Flow Structure"
   ]
  },
  {
   "cell_type": "code",
   "execution_count": 11,
   "id": "30390d5e-1e4c-4904-b3cb-d92d4b73690c",
   "metadata": {},
   "outputs": [
    {
     "name": "stdout",
     "output_type": "stream",
     "text": [
      "Bye\n"
     ]
    }
   ],
   "source": [
    "a=10\n",
    "if a>15:\n",
    "    print(\"Hello\")\n",
    "else:\n",
    "    print(\"Bye\")"
   ]
  },
  {
   "cell_type": "code",
   "execution_count": 16,
   "id": "f55fd68b-8975-4d84-a1b2-60bd4f22c87b",
   "metadata": {},
   "outputs": [
    {
     "name": "stdin",
     "output_type": "stream",
     "text": [
      "Enter the Age: 14\n"
     ]
    },
    {
     "name": "stdout",
     "output_type": "stream",
     "text": [
      "They are not eligible to vote\n"
     ]
    }
   ],
   "source": [
    "age=int(input(\"Enter the Age:\"))\n",
    "if age>=18:\n",
    "    print(\"They are eligible to vote\")\n",
    "else:\n",
    "    print(\"They are not eligible to vote\")"
   ]
  },
  {
   "cell_type": "code",
   "execution_count": null,
   "id": "aadf611d-3523-43fa-8939-a6360a787842",
   "metadata": {},
   "outputs": [],
   "source": [
    "#Assignment"
   ]
  },
  {
   "cell_type": "code",
   "execution_count": 17,
   "id": "f23ed4d2-fd71-437e-9eda-c94bc0529855",
   "metadata": {},
   "outputs": [
    {
     "name": "stdout",
     "output_type": "stream",
     "text": [
      "15\n"
     ]
    }
   ],
   "source": [
    "x = '10'\n",
    "print(int(x) + 5)"
   ]
  },
  {
   "cell_type": "code",
   "execution_count": 18,
   "id": "4da7b724-f29b-407f-9c9b-3b86cec6abb8",
   "metadata": {},
   "outputs": [
    {
     "name": "stdout",
     "output_type": "stream",
     "text": [
      "False\n"
     ]
    }
   ],
   "source": [
    "x = 0\n",
    "if x:\n",
    "    print('True')\n",
    "else:\n",
    "    print('False')"
   ]
  },
  {
   "cell_type": "code",
   "execution_count": 19,
   "id": "5e8f77aa-db0f-4e02-9096-77a3bf5ec2ca",
   "metadata": {},
   "outputs": [
    {
     "name": "stdout",
     "output_type": "stream",
     "text": [
      "B\n"
     ]
    }
   ],
   "source": [
    "if 10 < 2:\n",
    "    print('A')\n",
    "else:\n",
    "    print('B')"
   ]
  },
  {
   "cell_type": "code",
   "execution_count": 20,
   "id": "a5a69ee3-cfa7-4a6c-8cf0-303ea10ef975",
   "metadata": {},
   "outputs": [
    {
     "name": "stdout",
     "output_type": "stream",
     "text": [
      "1\n"
     ]
    }
   ],
   "source": [
    "print(int(True))\n"
   ]
  },
  {
   "cell_type": "code",
   "execution_count": 22,
   "id": "8fc136d0-0c51-4f88-bae9-73025785985d",
   "metadata": {},
   "outputs": [
    {
     "name": "stdout",
     "output_type": "stream",
     "text": [
      "123\n"
     ]
    }
   ],
   "source": [
    "print(str(\"123\")) "
   ]
  },
  {
   "cell_type": "code",
   "execution_count": 23,
   "id": "b44aec72-d842-476b-bcbd-306f96127de0",
   "metadata": {},
   "outputs": [
    {
     "name": "stdin",
     "output_type": "stream",
     "text": [
      "Enter a number: -9\n"
     ]
    },
    {
     "name": "stdout",
     "output_type": "stream",
     "text": [
      "The number is negative\n"
     ]
    }
   ],
   "source": [
    "num=int(input(\"Enter a number:\"))\n",
    "if num>=0:\n",
    "    print(\"The number is positive\")\n",
    "else:\n",
    "    print(\"The number is negative\")"
   ]
  },
  {
   "cell_type": "code",
   "execution_count": 26,
   "id": "ee88dc9d-861d-4ac6-8878-f95fbb69b8a7",
   "metadata": {},
   "outputs": [
    {
     "name": "stdin",
     "output_type": "stream",
     "text": [
      "Enter a number: 7\n"
     ]
    },
    {
     "name": "stdout",
     "output_type": "stream",
     "text": [
      "The number is Even\n"
     ]
    }
   ],
   "source": [
    "num=int(input(\"Enter a number:\"))\n",
    "if num/2:\n",
    "    print(\"The number is Even\")\n",
    "else:\n",
    "    print(\"The number is Odd\")\n",
    "    "
   ]
  },
  {
   "cell_type": "code",
   "execution_count": 30,
   "id": "0e1e3353-40f2-454d-b761-0dfec99dc660",
   "metadata": {},
   "outputs": [
    {
     "name": "stdin",
     "output_type": "stream",
     "text": [
      "Enter a string:  Haha\n"
     ]
    },
    {
     "name": "stdout",
     "output_type": "stream",
     "text": [
      "The string length is 5 or less.\n"
     ]
    }
   ],
   "source": [
    "String=str(input(\"Enter a string: \"))\n",
    "if len(String) > 5:\n",
    "    print(\"The string length is greater than 5.\")\n",
    "else:\n",
    "    print(\"The string length is 5 or less.\")\n"
   ]
  },
  {
   "cell_type": "code",
   "execution_count": 32,
   "id": "635c391a-aad2-4637-814e-29b525db3948",
   "metadata": {},
   "outputs": [
    {
     "name": "stdin",
     "output_type": "stream",
     "text": [
      "Enter a number: 55\n"
     ]
    },
    {
     "name": "stdout",
     "output_type": "stream",
     "text": [
      "Pass\n"
     ]
    }
   ],
   "source": [
    "Marks=int(input(\"Enter a number:\"))\n",
    "if Marks>=40:\n",
    "    print(\"Pass\")\n",
    "else:\n",
    "    print(\"Fail\")"
   ]
  },
  {
   "cell_type": "code",
   "execution_count": 34,
   "id": "39e4cfe7-ef09-42f8-b922-b20ad56bf0c2",
   "metadata": {},
   "outputs": [
    {
     "name": "stdin",
     "output_type": "stream",
     "text": [
      "Enter a number:  7\n"
     ]
    },
    {
     "name": "stdout",
     "output_type": "stream",
     "text": [
      "The number is odd.\n"
     ]
    }
   ],
   "source": [
    "Num = int(input(\"Enter a number: \"))\n",
    "if Num % 2 == 0:\n",
    "    print(\"The number is even.\")\n",
    "else:\n",
    "    print(\"The number is odd.\")"
   ]
  },
  {
   "cell_type": "code",
   "execution_count": 42,
   "id": "8a5af86c-9625-4f7c-8eb2-31d784668537",
   "metadata": {},
   "outputs": [
    {
     "name": "stdin",
     "output_type": "stream",
     "text": [
      "Enter a month:  March\n"
     ]
    },
    {
     "name": "stdout",
     "output_type": "stream",
     "text": [
      "Spring\n"
     ]
    }
   ],
   "source": [
    "#12 Months and Weather\n",
    "Month=str(input(\"Enter a month: \"))\n",
    "if Month in [\"Feb\", \"March\", \"April\"]:\n",
    "        print(\"Spring\")\n",
    "elif Month in [\"May\", \"June\", \"July\"]:\n",
    "        print(\"Summer\")\n",
    "elif Month in [\"Aug\",\"Sept\",\"Oct\"]:\n",
    "        print(\"Autumn\")\n",
    "else:\n",
    "    Month in [\"Nov\", \"Dec\", \"Jan\"]\n",
    "    print(\"Winter\")    "
   ]
  },
  {
   "cell_type": "code",
   "execution_count": 47,
   "id": "e2e9634d-9bd6-45a8-b80f-f054528ece1e",
   "metadata": {},
   "outputs": [
    {
     "name": "stdin",
     "output_type": "stream",
     "text": [
      "Enter mode of transportation (Air/Water/Land):  Water\n",
      "Enter a vehicle from the above options:  Ship\n"
     ]
    },
    {
     "name": "stdout",
     "output_type": "stream",
     "text": [
      "You selected Ship in Water transport.\n"
     ]
    }
   ],
   "source": [
    "\n",
    "air = [\"Aeroplane\", \"Helicopter\", \"Hot Air balloon\", \"Private jet\"]\n",
    "water = [\"Ship\", \"Boat\", \"Swimming\"]\n",
    "land = [\"Car\", \"Bike\", \"Bus\"]\n",
    "\n",
    "mode = str(input(\"Enter mode of transportation (Air/Water/Land): \"))\n",
    "\n",
    "\n",
    "if mode in \"Air\":\n",
    "    vehicle = input(\"Enter a vehicle from the above options: \")\n",
    "    if vehicle in air:\n",
    "        print(\"You selected\", vehicle, \"in Air transport.\")\n",
    "    else:\n",
    "        print(\"Invalid Air transport vehicle.\")\n",
    "\n",
    "elif mode in \"Water\":\n",
    "    vehicle = input(\"Enter a vehicle from the above options: \")\n",
    "    if vehicle in water:\n",
    "        print(\"You selected\", vehicle, \"in Water transport.\")\n",
    "    else:\n",
    "        print(\"Invalid Water transport vehicle.\")\n",
    "\n",
    "elif mode in \"Land\":\n",
    "    vehicle = input(\"Enter a vehicle from the above options: \")\n",
    "    if vehicle in land:\n",
    "        print(\"You selected\", vehicle, \"in Land transport.\")\n",
    "    else:\n",
    "        print(\"Invalid Land transport vehicle.\")\n",
    "\n",
    "else:\n",
    "    print(\"Invalid mode of transportation.\")"
   ]
  },
  {
   "cell_type": "code",
   "execution_count": null,
   "id": "bafc2e07-8a13-45f3-8db8-757ab1526a5a",
   "metadata": {},
   "outputs": [],
   "source": [
    "#Assignment"
   ]
  },
  {
   "cell_type": "code",
   "execution_count": 48,
   "id": "df1212d3-37d2-49e1-8536-4d9f7960e4d3",
   "metadata": {},
   "outputs": [
    {
     "name": "stdout",
     "output_type": "stream",
     "text": [
      "A\n"
     ]
    }
   ],
   "source": [
    "x = 10\n",
    "if x > 5:\n",
    "    print('A')\n",
    "elif x > 3:\n",
    "    print('B')\n",
    "else:\n",
    "    print('C')"
   ]
  },
  {
   "cell_type": "code",
   "execution_count": 49,
   "id": "87b23534-8074-450e-bf46-66b21b2c05f3",
   "metadata": {},
   "outputs": [
    {
     "name": "stdout",
     "output_type": "stream",
     "text": [
      "No\n"
     ]
    }
   ],
   "source": [
    "x = 4\n",
    "y = 2\n",
    "if x > 2:\n",
    "    if y > 3:\n",
    "        print('Yes')\n",
    "    else:\n",
    "        print('No')"
   ]
  },
  {
   "cell_type": "code",
   "execution_count": 50,
   "id": "6e5d376c-290f-47b1-988e-831b69cf0d8e",
   "metadata": {},
   "outputs": [
    {
     "name": "stdout",
     "output_type": "stream",
     "text": [
      "High\n"
     ]
    }
   ],
   "source": [
    "x = 7\n",
    "if x > 5:\n",
    "    print('High')\n",
    "else:\n",
    "    print('Low')"
   ]
  },
  {
   "cell_type": "code",
   "execution_count": 51,
   "id": "13cf9802-60b2-43bb-84b5-e4296710170e",
   "metadata": {},
   "outputs": [
    {
     "name": "stdout",
     "output_type": "stream",
     "text": [
      "Pass\n"
     ]
    }
   ],
   "source": [
    "marks = 45\n",
    "if marks >= 40:\n",
    "    print('Pass')\n",
    "else:\n",
    "    print('Fail')"
   ]
  },
  {
   "cell_type": "code",
   "execution_count": 52,
   "id": "3f7fa3bf-fbc1-4cfe-94cc-47b40f239c1f",
   "metadata": {},
   "outputs": [
    {
     "name": "stdout",
     "output_type": "stream",
     "text": [
      "Three\n"
     ]
    }
   ],
   "source": [
    "x = 3\n",
    "if x == 5:\n",
    "    print('Five')\n",
    "elif x == 3:\n",
    "    print('Three')\n",
    "else:\n",
    "    print('Other')"
   ]
  },
  {
   "cell_type": "code",
   "execution_count": 55,
   "id": "c1772743-4395-4d8a-ac5a-a811b65699a6",
   "metadata": {},
   "outputs": [
    {
     "name": "stdin",
     "output_type": "stream",
     "text": [
      "Enter a number: -1\n"
     ]
    },
    {
     "name": "stdout",
     "output_type": "stream",
     "text": [
      "The number is negative\n"
     ]
    }
   ],
   "source": [
    "num=int(input(\"Enter a number:\"))\n",
    "if num>0:\n",
    "    print(\"The number is positive\")\n",
    "elif num<0:\n",
    "    print(\"The number is negative\")\n",
    "else:\n",
    "    print(\"The number is zero\")\n",
    "    "
   ]
  },
  {
   "cell_type": "code",
   "execution_count": 61,
   "id": "2eac68e5-5e05-4916-8b89-916657083e8f",
   "metadata": {},
   "outputs": [
    {
     "name": "stdin",
     "output_type": "stream",
     "text": [
      "Enter a age: 30\n"
     ]
    },
    {
     "name": "stdout",
     "output_type": "stream",
     "text": [
      "Adult\n"
     ]
    }
   ],
   "source": [
    "age=int(input(\"Enter a age:\"))\n",
    "if age<13:\n",
    "    print(\"Child\")\n",
    "elif age<18:\n",
    "    print(\"Teen\")\n",
    "else:\n",
    "    print(\"Adult\")"
   ]
  },
  {
   "cell_type": "code",
   "execution_count": 64,
   "id": "af185d51-1713-473a-ab11-2e367229d216",
   "metadata": {},
   "outputs": [
    {
     "name": "stdin",
     "output_type": "stream",
     "text": [
      "Enter a number:  18\n"
     ]
    },
    {
     "name": "stdout",
     "output_type": "stream",
     "text": [
      "The number is even.\n",
      "The number is greater than 10.\n"
     ]
    }
   ],
   "source": [
    "num = int(input(\"Enter a number: \"))\n",
    "if num % 2 == 0:  \n",
    "    print(\"The number is even.\")\n",
    "    if num > 10: \n",
    "        print(\"The number is greater than 10.\")\n",
    "    else:\n",
    "        print(\"The number is 10 or less.\")\n",
    "else:\n",
    "    print(\"The number is odd.\")\n"
   ]
  },
  {
   "cell_type": "code",
   "execution_count": 69,
   "id": "a588b24c-350d-4607-a2c1-84a4d80b2258",
   "metadata": {},
   "outputs": [
    {
     "name": "stdin",
     "output_type": "stream",
     "text": [
      "Enter your marks:  54\n"
     ]
    },
    {
     "name": "stdout",
     "output_type": "stream",
     "text": [
      "Fail\n"
     ]
    }
   ],
   "source": [
    "marks = int(input(\"Enter your marks: \"))\n",
    "if marks > 90:\n",
    "    print(\"A\")\n",
    "elif marks > 75:\n",
    "    print(\"B\")\n",
    "elif marks > 60:\n",
    "    print(\"C\")\n",
    "else:\n",
    "    print(\"Fail\")"
   ]
  },
  {
   "cell_type": "code",
   "execution_count": 72,
   "id": "f003ade1-f31b-480a-8cf2-1e4cac5e53ba",
   "metadata": {},
   "outputs": [
    {
     "name": "stdin",
     "output_type": "stream",
     "text": [
      "Enter first number:  45\n",
      "Enter second number:  78\n",
      "Enter third number:  90\n"
     ]
    },
    {
     "name": "stdout",
     "output_type": "stream",
     "text": [
      "Greatest number is: 90\n"
     ]
    }
   ],
   "source": [
    "\n",
    "a = int(input(\"Enter first number: \"))\n",
    "b = int(input(\"Enter second number: \"))\n",
    "c = int(input(\"Enter third number: \"))\n",
    "\n",
    "if a > b:\n",
    "    if a > c:\n",
    "        print(\"Greatest number is:\", a)\n",
    "    else:\n",
    "        print(\"Greatest number is:\", c)\n",
    "else:\n",
    "    if b > c:\n",
    "        print(\"Greatest number is:\", b)\n",
    "    else:\n",
    "        print(\"Greatest number is:\", c)\n"
   ]
  },
  {
   "cell_type": "code",
   "execution_count": 75,
   "id": "09f0a21f-86aa-4182-bf40-5b0a5a462701",
   "metadata": {},
   "outputs": [
    {
     "name": "stdout",
     "output_type": "stream",
     "text": [
      "2\n",
      "4\n",
      "6\n",
      "8\n",
      "10\n",
      "12\n",
      "14\n",
      "16\n",
      "18\n",
      "20\n"
     ]
    }
   ],
   "source": [
    "num = 2\n",
    "i = 1\n",
    "while i <= 10:\n",
    "    print(num * i)\n",
    "    i += 1\n"
   ]
  },
  {
   "cell_type": "code",
   "execution_count": null,
   "id": "50fd1100-eb4a-45ed-8ae9-a7b117f89a27",
   "metadata": {},
   "outputs": [],
   "source": []
  }
 ],
 "metadata": {
  "kernelspec": {
   "display_name": "Python [conda env:base] *",
   "language": "python",
   "name": "conda-base-py"
  },
  "language_info": {
   "codemirror_mode": {
    "name": "ipython",
    "version": 3
   },
   "file_extension": ".py",
   "mimetype": "text/x-python",
   "name": "python",
   "nbconvert_exporter": "python",
   "pygments_lexer": "ipython3",
   "version": "3.13.5"
  }
 },
 "nbformat": 4,
 "nbformat_minor": 5
}
