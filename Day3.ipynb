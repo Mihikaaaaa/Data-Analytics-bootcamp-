{
 "cells": [
  {
   "cell_type": "code",
   "execution_count": null,
   "id": "7af249df-fe85-42da-84e5-7f90a002eb9b",
   "metadata": {},
   "outputs": [],
   "source": [
    "#While Loop"
   ]
  },
  {
   "cell_type": "code",
   "execution_count": 4,
   "id": "f2cf0daa-a47a-44f4-ab0a-23f94220b193",
   "metadata": {},
   "outputs": [
    {
     "name": "stdin",
     "output_type": "stream",
     "text": [
      "Enter a number 5\n"
     ]
    },
    {
     "name": "stdout",
     "output_type": "stream",
     "text": [
      "5x 1 = 5\n",
      "5x 2 = 10\n",
      "5x 3 = 15\n",
      "5x 4 = 20\n",
      "5x 5 = 25\n",
      "5x 6 = 30\n",
      "5x 7 = 35\n",
      "5x 8 = 40\n",
      "5x 9 = 45\n",
      "5x 10 = 50\n"
     ]
    }
   ],
   "source": [
    "num= int(input(\"Enter a number\"))\n",
    "i=1\n",
    "\n",
    "while i<=10:                               \n",
    "    print(f\"{num}x {i} = {num*i}\")      #F is used for formatting and we use curly brackets\n",
    "    i+=1"
   ]
  },
  {
   "cell_type": "code",
   "execution_count": 9,
   "id": "3796bf42-3bd4-43ce-bd05-fa7ae838f413",
   "metadata": {},
   "outputs": [
    {
     "name": "stdin",
     "output_type": "stream",
     "text": [
      "Enter your password haha\n"
     ]
    },
    {
     "name": "stdout",
     "output_type": "stream",
     "text": [
      "Phone unlocked\n"
     ]
    }
   ],
   "source": [
    "#Minor Projet\n",
    "Correctpass=\"haha\"\n",
    "maxattempt=3\n",
    "attempt=0\n",
    "while attempt<maxattempt:\n",
    "    user= str(input(\"Enter your password\"))\n",
    "\n",
    "    if user== Correctpass:\n",
    "        print(\"Phone unlocked\")\n",
    "        break\n",
    "    else:\n",
    "        attempt+=1\n",
    "        attemptleft=maxattempt-attempt\n",
    "        if attemptleft>0:\n",
    "            print(f\"Wrong password. You have {attemptleft} attempts left\")\n",
    "        else:\n",
    "            print(\"Phone locked. Try again later\")\n",
    "            \n"
   ]
  },
  {
   "cell_type": "code",
   "execution_count": null,
   "id": "b7b90ce8-aee4-46f5-a0a6-b7cc36957f32",
   "metadata": {},
   "outputs": [],
   "source": [
    "#for loop"
   ]
  },
  {
   "cell_type": "code",
   "execution_count": 16,
   "id": "3f38cd8a-8929-4b7e-8460-40937e16cd07",
   "metadata": {},
   "outputs": [
    {
     "name": "stdin",
     "output_type": "stream",
     "text": [
      "Enter a number 5\n"
     ]
    },
    {
     "name": "stdout",
     "output_type": "stream",
     "text": [
      "5x 1 = 5\n",
      "5x 2 = 10\n",
      "5x 3 = 15\n",
      "5x 4 = 20\n",
      "5x 5 = 25\n",
      "5x 6 = 30\n",
      "5x 7 = 35\n",
      "5x 8 = 40\n",
      "5x 9 = 45\n",
      "5x 10 = 50\n"
     ]
    }
   ],
   "source": [
    "num=  int(input(\"Enter a number\"))\n",
    "for i in range (1,11):\n",
    "    print(f\"{num}x {i} = {num*i}\")"
   ]
  },
  {
   "cell_type": "code",
   "execution_count": 17,
   "id": "b802e11a-3761-43b6-aafa-31a38301c4d8",
   "metadata": {},
   "outputs": [
    {
     "name": "stdout",
     "output_type": "stream",
     "text": [
      "1\n",
      "2\n",
      "4\n",
      "5\n"
     ]
    }
   ],
   "source": [
    "for i in range(1,6):\n",
    "    if i ==3:\n",
    "        continue\n",
    "    print(i)"
   ]
  },
  {
   "cell_type": "code",
   "execution_count": 18,
   "id": "78e459f0-2b15-425c-9007-6db6dfa7b463",
   "metadata": {},
   "outputs": [
    {
     "name": "stdout",
     "output_type": "stream",
     "text": [
      "1\n",
      "2\n",
      "3\n",
      "4\n"
     ]
    }
   ],
   "source": [
    "for i in range(1,10):\n",
    "    if i ==5:\n",
    "        break\n",
    "    print(i)"
   ]
  },
  {
   "cell_type": "code",
   "execution_count": 1,
   "id": "39ae8de2-b161-4050-8f6f-d47a16ae6d2e",
   "metadata": {},
   "outputs": [
    {
     "data": {
      "text/plain": [
       "True"
      ]
     },
     "execution_count": 1,
     "metadata": {},
     "output_type": "execute_result"
    }
   ],
   "source": [
    "bool(1)"
   ]
  },
  {
   "cell_type": "code",
   "execution_count": 3,
   "id": "0147d53d-fe5c-42fa-90c5-5e1e2b46a064",
   "metadata": {},
   "outputs": [
    {
     "data": {
      "text/plain": [
       "False"
      ]
     },
     "execution_count": 3,
     "metadata": {},
     "output_type": "execute_result"
    }
   ],
   "source": [
    "bool(0)"
   ]
  },
  {
   "cell_type": "raw",
   "id": "59542c2c-4247-4325-a789-6893f3e7200f",
   "metadata": {},
   "source": []
  },
  {
   "cell_type": "code",
   "execution_count": 4,
   "id": "9b253a3b-2524-4329-881d-f042a7b45af2",
   "metadata": {},
   "outputs": [
    {
     "name": "stdout",
     "output_type": "stream",
     "text": [
      "7\n"
     ]
    }
   ],
   "source": [
    "print(3 + 2 * 2)"
   ]
  },
  {
   "cell_type": "code",
   "execution_count": 5,
   "id": "3d316583-c83e-4a67-b590-9db3eaebc7b3",
   "metadata": {},
   "outputs": [
    {
     "name": "stdout",
     "output_type": "stream",
     "text": [
      "2\n"
     ]
    }
   ],
   "source": [
    "print(10 % 4)"
   ]
  },
  {
   "cell_type": "code",
   "execution_count": 9,
   "id": "f5d7752b-169e-4281-933d-e9d0f5861921",
   "metadata": {},
   "outputs": [
    {
     "name": "stdout",
     "output_type": "stream",
     "text": [
      "0\n",
      "2\n"
     ]
    }
   ],
   "source": [
    "for i in range(3):\n",
    "    if i == 1: \n",
    "        continue\n",
    "    print(i)\n"
   ]
  },
  {
   "cell_type": "code",
   "execution_count": 20,
   "id": "559d3987-614c-4589-9afa-f1f97515390d",
   "metadata": {},
   "outputs": [
    {
     "name": "stdout",
     "output_type": "stream",
     "text": [
      "0\n",
      "1\n",
      "2\n",
      "3\n",
      "4\n"
     ]
    }
   ],
   "source": [
    "for i in range(5):\n",
    "    print(i)"
   ]
  },
  {
   "cell_type": "code",
   "execution_count": 12,
   "id": "853bed08-bb26-4b44-8e01-bdb91fe67e67",
   "metadata": {},
   "outputs": [
    {
     "name": "stdout",
     "output_type": "stream",
     "text": [
      "3\n"
     ]
    }
   ],
   "source": [
    "print(10 // 3)"
   ]
  },
  {
   "cell_type": "code",
   "execution_count": 13,
   "id": "5a43ecba-ca97-4656-bc49-7a733a5b1c00",
   "metadata": {},
   "outputs": [
    {
     "name": "stdout",
     "output_type": "stream",
     "text": [
      "1\n"
     ]
    }
   ],
   "source": [
    "print(10%3)"
   ]
  },
  {
   "cell_type": "code",
   "execution_count": 14,
   "id": "2d5f498f-f6dd-49f6-b207-8022f4249e6f",
   "metadata": {},
   "outputs": [
    {
     "name": "stdout",
     "output_type": "stream",
     "text": [
      "2.0\n"
     ]
    }
   ],
   "source": [
    "print(10 / 5)"
   ]
  },
  {
   "cell_type": "code",
   "execution_count": 15,
   "id": "ab5fb23b-cb49-4a76-ba2e-f5864849c310",
   "metadata": {},
   "outputs": [
    {
     "name": "stdout",
     "output_type": "stream",
     "text": [
      "Go\n"
     ]
    }
   ],
   "source": [
    " if 1: \n",
    "     print('Go')"
   ]
  },
  {
   "cell_type": "code",
   "execution_count": 18,
   "id": "57b478b4-9250-413b-87b4-83e7ffec6eb7",
   "metadata": {},
   "outputs": [],
   "source": [
    "if 0: \n",
    "    print('Yes')"
   ]
  },
  {
   "cell_type": "code",
   "execution_count": 19,
   "id": "6aed6abd-9234-43f3-8e95-56542dc8ef6a",
   "metadata": {},
   "outputs": [
    {
     "name": "stdout",
     "output_type": "stream",
     "text": [
      "Yes\n"
     ]
    }
   ],
   "source": [
    "if 5 > 3:\n",
    "    print('Yes')"
   ]
  },
  {
   "cell_type": "code",
   "execution_count": 21,
   "id": "0e11eba4-05a3-4b9a-a2d8-a81ba9da5934",
   "metadata": {},
   "outputs": [
    {
     "name": "stdout",
     "output_type": "stream",
     "text": [
      "<class 'bool'>\n"
     ]
    }
   ],
   "source": [
    "print(type(True))"
   ]
  },
  {
   "cell_type": "code",
   "execution_count": 22,
   "id": "3de89638-0813-4bc0-a855-ad5856689a3d",
   "metadata": {},
   "outputs": [
    {
     "name": "stdout",
     "output_type": "stream",
     "text": [
      "False\n"
     ]
    }
   ],
   "source": [
    "print(10 == 10 and 5 < 2)"
   ]
  },
  {
   "cell_type": "code",
   "execution_count": 23,
   "id": "75f526f6-5785-4377-b3b2-a8adc1c7fa21",
   "metadata": {},
   "outputs": [
    {
     "name": "stdout",
     "output_type": "stream",
     "text": [
      "H\n",
      "i\n"
     ]
    }
   ],
   "source": [
    " for x in 'Hi':\n",
    "     print(x)"
   ]
  },
  {
   "cell_type": "code",
   "execution_count": 25,
   "id": "8f96cb29-924a-41fb-9b5a-e02bb28c8cac",
   "metadata": {},
   "outputs": [
    {
     "name": "stdout",
     "output_type": "stream",
     "text": [
      "<class 'str'>\n"
     ]
    }
   ],
   "source": [
    "print(type('5'))"
   ]
  },
  {
   "cell_type": "code",
   "execution_count": 27,
   "id": "d2ce457f-4f84-45bd-bc57-4b8439663a68",
   "metadata": {},
   "outputs": [
    {
     "name": "stdin",
     "output_type": "stream",
     "text": [
      "Enter a number:  5\n"
     ]
    },
    {
     "name": "stdout",
     "output_type": "stream",
     "text": [
      "5 is not divisible by both 3 and 7.\n"
     ]
    }
   ],
   "source": [
    "\n",
    "num = int(input(\"Enter a number: \"))\n",
    "\n",
    "if num % 3 == 0 and num % 7 == 0:\n",
    "    print(f\"{num} is divisible by both 3 and 7.\")\n",
    "else:\n",
    "    print(f\"{num} is not divisible by both 3 and 7.\")\n"
   ]
  },
  {
   "cell_type": "code",
   "execution_count": 28,
   "id": "a3327d3e-215e-4780-882a-7da491143c50",
   "metadata": {},
   "outputs": [
    {
     "name": "stdout",
     "output_type": "stream",
     "text": [
      "2\n",
      "4\n",
      "6\n",
      "8\n",
      "10\n",
      "12\n",
      "14\n",
      "16\n",
      "18\n",
      "20\n",
      "22\n",
      "24\n",
      "26\n",
      "28\n",
      "30\n",
      "32\n",
      "34\n",
      "36\n",
      "38\n",
      "40\n",
      "42\n",
      "44\n",
      "46\n",
      "48\n",
      "50\n",
      "52\n",
      "54\n",
      "56\n",
      "58\n",
      "60\n",
      "62\n",
      "64\n",
      "66\n",
      "68\n",
      "70\n",
      "72\n",
      "74\n",
      "76\n",
      "78\n",
      "80\n",
      "82\n",
      "84\n",
      "86\n",
      "88\n",
      "90\n",
      "92\n",
      "94\n",
      "96\n",
      "98\n",
      "100\n"
     ]
    }
   ],
   "source": [
    "for num in range(1, 101):\n",
    "    if num % 2 == 0:\n",
    "        print(num)\n"
   ]
  },
  {
   "cell_type": "code",
   "execution_count": 29,
   "id": "5e4d6634-dee6-4f15-b1d9-83f47457e2e7",
   "metadata": {},
   "outputs": [
    {
     "name": "stdin",
     "output_type": "stream",
     "text": [
      "Enter first number:  45\n",
      "Enter second number:  56\n",
      "Enter third number:  78\n"
     ]
    },
    {
     "name": "stdout",
     "output_type": "stream",
     "text": [
      "The greatest number is: 78\n"
     ]
    }
   ],
   "source": [
    "\n",
    "a = int(input(\"Enter first number: \"))\n",
    "b = int(input(\"Enter second number: \"))\n",
    "c = int(input(\"Enter third number: \"))\n",
    "\n",
    "if a >= b:\n",
    "    if a >= c:\n",
    "        print(\"The greatest number is:\", a)\n",
    "    else:\n",
    "        print(\"The greatest number is:\", c)\n",
    "else:\n",
    "    if b >= c:\n",
    "        print(\"The greatest number is:\", b)\n",
    "    else:\n",
    "        print(\"The greatest number is:\", c)\n"
   ]
  },
  {
   "cell_type": "code",
   "execution_count": 30,
   "id": "3eac0ff4-a44d-4410-9385-d3ce60a2d8d9",
   "metadata": {},
   "outputs": [
    {
     "name": "stdout",
     "output_type": "stream",
     "text": [
      "50\n",
      "49\n",
      "48\n",
      "47\n",
      "46\n",
      "45\n",
      "44\n",
      "43\n",
      "42\n",
      "41\n",
      "40\n",
      "39\n",
      "38\n",
      "37\n",
      "36\n",
      "35\n",
      "34\n",
      "33\n",
      "32\n",
      "31\n",
      "30\n",
      "29\n",
      "28\n",
      "27\n",
      "26\n",
      "25\n",
      "24\n",
      "23\n",
      "22\n",
      "21\n",
      "20\n",
      "19\n",
      "18\n",
      "17\n",
      "16\n",
      "15\n",
      "14\n",
      "13\n",
      "12\n",
      "11\n",
      "10\n",
      "9\n",
      "8\n",
      "7\n",
      "6\n",
      "5\n",
      "4\n",
      "3\n",
      "2\n",
      "1\n"
     ]
    }
   ],
   "source": [
    "\n",
    "num = 50\n",
    "while num >= 1:\n",
    "    print(num)\n",
    "    num -= 1 \n"
   ]
  },
  {
   "cell_type": "code",
   "execution_count": 31,
   "id": "45ecef33-568b-4aa4-ad2e-44a77e832aaa",
   "metadata": {},
   "outputs": [
    {
     "name": "stdout",
     "output_type": "stream",
     "text": [
      "Total number of numbers that is divisible by 5 from 1 to 100 are: 20\n"
     ]
    }
   ],
   "source": [
    "\n",
    "count = 0\n",
    "for num in range(1, 101):\n",
    "    if num % 5 == 0:\n",
    "        count += 1\n",
    "print(\"Total number of numbers that is divisible by 5 from 1 to 100 are:\", count)"
   ]
  },
  {
   "cell_type": "code",
   "execution_count": 2,
   "id": "f05ff24b-bd4c-4b54-8c93-1e132da1ea17",
   "metadata": {},
   "outputs": [
    {
     "name": "stdin",
     "output_type": "stream",
     "text": [
      "Enter a year:  2024\n"
     ]
    },
    {
     "name": "stdout",
     "output_type": "stream",
     "text": [
      "2024 is a leap year.\n"
     ]
    }
   ],
   "source": [
    "\n",
    "year = int(input(\"Enter a year: \"))\n",
    "if (year % 4 == 0):\n",
    "    if (year % 100 != 0) or (year % 400 == 0):\n",
    "        print(f\"{year} is a leap year.\")\n",
    "    else:\n",
    "        print(f\"{year} is not a leap year.\")\n",
    "else:\n",
    "    print(f\"{year} is not a leap year.\")\n"
   ]
  },
  {
   "cell_type": "code",
   "execution_count": 46,
   "id": "6cca50cf-c6ab-4e5f-b15b-17faf81ec1db",
   "metadata": {},
   "outputs": [
    {
     "name": "stdin",
     "output_type": "stream",
     "text": [
      "Enter a number:  3\n"
     ]
    },
    {
     "name": "stdout",
     "output_type": "stream",
     "text": [
      "The factorial of 3 is 6.\n"
     ]
    }
   ],
   "source": [
    "\n",
    "num = int(input(\"Enter a number: \"))\n",
    "factorial = 1\n",
    "\n",
    "if num < 0:\n",
    "    print(\"Factorial does not exist for negative numbers.\")\n",
    "elif num == 0:\n",
    "    print(\"The factorial of 0 is 1.\")\n",
    "else:\n",
    "    for i in range(1, num + 1):\n",
    "        factorial *= i\n",
    "    print(f\"The factorial of {num} is {factorial}.\")\n"
   ]
  },
  {
   "cell_type": "code",
   "execution_count": 48,
   "id": "fe20da14-0958-45fd-a773-e0dc6c7a3876",
   "metadata": {},
   "outputs": [
    {
     "name": "stdin",
     "output_type": "stream",
     "text": [
      "Enter a number:  3\n"
     ]
    },
    {
     "name": "stdout",
     "output_type": "stream",
     "text": [
      "The number is positive.\n"
     ]
    }
   ],
   "source": [
    "\n",
    "num = int(input(\"Enter a number: \"))\n",
    "if num > 0:\n",
    "    print(\"The number is positive.\")\n",
    "elif num < 0:\n",
    "    print(\"The number is negative.\")\n",
    "else:\n",
    "    print(\"The number is zero.\")\n"
   ]
  },
  {
   "cell_type": "code",
   "execution_count": 2,
   "id": "fde1eb7c-1f44-470e-b9b0-c7e75926ccf2",
   "metadata": {},
   "outputs": [
    {
     "name": "stdin",
     "output_type": "stream",
     "text": [
      "Enter a number:  12\n"
     ]
    },
    {
     "name": "stdout",
     "output_type": "stream",
     "text": [
      "12 is even and greater than 10.\n"
     ]
    }
   ],
   "source": [
    "\n",
    "num = int(input(\"Enter a number: \"))\n",
    "if num % 2 == 0 and num > 10:\n",
    "    print(f\"{num} is even and greater than 10.\")\n",
    "else:\n",
    "    print(f\"{num} is NOT both even and greater than 10.\")"
   ]
  },
  {
   "cell_type": "code",
   "execution_count": 4,
   "id": "5bc859d4-4759-4797-9d93-7949b736fe1f",
   "metadata": {},
   "outputs": [
    {
     "name": "stdout",
     "output_type": "stream",
     "text": [
      "3\n",
      "6\n",
      "9\n",
      "12\n",
      "15\n",
      "18\n",
      "21\n",
      "24\n",
      "27\n",
      "30\n",
      "33\n",
      "36\n",
      "39\n",
      "42\n",
      "45\n",
      "48\n"
     ]
    }
   ],
   "source": [
    "\n",
    "for num in range(1, 51):\n",
    "    if num % 3 == 0:\n",
    "        continue \n",
    "    print(num)\n",
    "    \n"
   ]
  },
  {
   "cell_type": "code",
   "execution_count": 57,
   "id": "ba49afdb-88f2-4ac6-9ef8-65c8f411a0e5",
   "metadata": {},
   "outputs": [
    {
     "name": "stdin",
     "output_type": "stream",
     "text": [
      "Enter a string:  thkogmtrgvujtrgiorz\n"
     ]
    },
    {
     "name": "stdout",
     "output_type": "stream",
     "text": [
      "t\n",
      "h\n",
      "k\n",
      "o\n",
      "g\n",
      "m\n",
      "t\n",
      "r\n",
      "g\n",
      "v\n",
      "u\n",
      "j\n",
      "t\n",
      "r\n",
      "g\n",
      "i\n",
      "o\n",
      "r\n"
     ]
    }
   ],
   "source": [
    "\n",
    "String = str(input(\"Enter a string: \"))\n",
    "for char in String:\n",
    "    if char == 'z':\n",
    "        break \n",
    "    print(char)\n"
   ]
  },
  {
   "cell_type": "code",
   "execution_count": null,
   "id": "60e02296-f997-4c20-b30c-2ba68ac1fe28",
   "metadata": {},
   "outputs": [],
   "source": [
    "num = int(input(\"Enter a number: \"))\n",
    "n = abs(num)\n",
    "count = 0\n",
    "if n == 0:\n",
    "    count = 1\n",
    "else:\n",
    "    while n > 0:\n",
    "        n //= 10  \n",
    "        count += 1\n",
    "print(f\"Number of digits in {num} is {count}.\")\n"
   ]
  },
  {
   "cell_type": "code",
   "execution_count": null,
   "id": "d18ffdcb-f39c-4ae3-a933-7b05386646c1",
   "metadata": {},
   "outputs": [],
   "source": [
    "\n",
    "num = int(input(\"Enter a number: \"))\n",
    "n = abs(num)\n",
    "count = 0\n",
    "if n == 0:\n",
    "    count = 1\n",
    "else:\n",
    "    while n > 0:\n",
    "        n //= 10  \n",
    "        count += 1\n",
    "print(f\"Number of digits in {num} is {count}.\")\n"
   ]
  },
  {
   "cell_type": "code",
   "execution_count": null,
   "id": "4a40cef1-5596-459f-b35e-ebac01b419b8",
   "metadata": {},
   "outputs": [],
   "source": [
    "\n",
    "number = int(input(\"Enter a number: \"))\n",
    "reversednum = 0\n",
    "originalnum = number\n",
    "n = abs(number)\n",
    "\n",
    "\n",
    "while n > 0:\n",
    "    digit = n % 10           \n",
    "    reversednum = reversednum * 10 + digit  \n",
    "    n //= 10                 \n",
    "\n",
    "\n",
    "    reversednum = -reversednum\n",
    "print(f\"Reversed number of {originalnum} is {reversenum}\")\n",
    "\n"
   ]
  },
  {
   "cell_type": "code",
   "execution_count": 5,
   "id": "fa568fa1-b885-4883-8167-41688f452a86",
   "metadata": {},
   "outputs": [
    {
     "name": "stdin",
     "output_type": "stream",
     "text": [
      "Enter a number:  780\n"
     ]
    },
    {
     "name": "stdout",
     "output_type": "stream",
     "text": [
      "Reversed number of 780 is 87\n"
     ]
    }
   ],
   "source": [
    "\n",
    "num = int(input(\"Enter a number: \"))\n",
    "\n",
    "\n",
    "reversednum = 0\n",
    "\n",
    "\n",
    "original = num\n",
    "\n",
    "n = abs(num)\n",
    "\n",
    "\n",
    "while n > 0:\n",
    "    digit = n % 10          \n",
    "    reversednum = reversednum * 10 + digit  \n",
    "    n //= 10                  \n",
    "\n",
    "\n",
    "if num < 0:\n",
    "    reversednum = -reversednum\n",
    "\n",
    "\n",
    "print(f\"Reversed number of {original} is {reversednum}\")\n"
   ]
  },
  {
   "cell_type": "code",
   "execution_count": null,
   "id": "0a3c36dd-e07e-4298-9a14-ac57a736940e",
   "metadata": {},
   "outputs": [],
   "source": [
    "\n",
    "total = 0\n",
    "for i in range(5):\n",
    "    num = float(input(f\"Enter number {i+1}: \"))\n",
    "    total += num\n",
    "average = total / 5\n",
    "print(\"The average of the 5 given numbers are:\", average)\n"
   ]
  },
  {
   "cell_type": "code",
   "execution_count": null,
   "id": "4f1141ed-9f7f-4799-bfa3-7fac79fbafc4",
   "metadata": {},
   "outputs": [],
   "source": [
    "\n",
    "for num in range(1, 31):\n",
    "    if num % 4 == 0:\n",
    "        continue  \n",
    "    print(num)\n"
   ]
  },
  {
   "cell_type": "code",
   "execution_count": null,
   "id": "ee0f8e55-4e2d-4a26-85c4-5e1dba74e23d",
   "metadata": {},
   "outputs": [],
   "source": []
  }
 ],
 "metadata": {
  "kernelspec": {
   "display_name": "Python [conda env:base] *",
   "language": "python",
   "name": "conda-base-py"
  },
  "language_info": {
   "codemirror_mode": {
    "name": "ipython",
    "version": 3
   },
   "file_extension": ".py",
   "mimetype": "text/x-python",
   "name": "python",
   "nbconvert_exporter": "python",
   "pygments_lexer": "ipython3",
   "version": "3.13.5"
  }
 },
 "nbformat": 4,
 "nbformat_minor": 5
}
