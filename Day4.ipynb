{
 "cells": [
  {
   "cell_type": "code",
   "execution_count": null,
   "id": "db1b9ea1-cb2b-41ca-92bc-671a81210844",
   "metadata": {},
   "outputs": [],
   "source": [
    "#Function"
   ]
  },
  {
   "cell_type": "code",
   "execution_count": 5,
   "id": "c8820e7f-76a0-4086-afaf-cabee5572da6",
   "metadata": {},
   "outputs": [
    {
     "name": "stdout",
     "output_type": "stream",
     "text": [
      "8\n"
     ]
    }
   ],
   "source": [
    "a=5\n",
    "b=3\n",
    "def sum():       #def is used to define the functions, can not make a function without def\n",
    "    print(a+b)\n",
    "\n",
    "sum()"
   ]
  },
  {
   "cell_type": "code",
   "execution_count": 3,
   "id": "a30d6ad6-c614-4ea4-a208-b1c683a16ea8",
   "metadata": {},
   "outputs": [
    {
     "name": "stdout",
     "output_type": "stream",
     "text": [
      "9\n"
     ]
    }
   ],
   "source": [
    "def sum(a,b):\n",
    "    print(a+b)\n",
    "\n",
    "sum(4,5)"
   ]
  },
  {
   "cell_type": "code",
   "execution_count": 7,
   "id": "9cb97bd4-9c6d-4a38-8aa1-128f639c788c",
   "metadata": {},
   "outputs": [
    {
     "name": "stdout",
     "output_type": "stream",
     "text": [
      "30\n"
     ]
    },
    {
     "ename": "TypeError",
     "evalue": "add() missing 1 required positional argument: 'b'",
     "output_type": "error",
     "traceback": [
      "\u001b[1;31m---------------------------------------------------------------------------\u001b[0m",
      "\u001b[1;31mTypeError\u001b[0m                                 Traceback (most recent call last)",
      "Cell \u001b[1;32mIn[7], line 6\u001b[0m\n\u001b[0;32m      3\u001b[0m     \u001b[38;5;28mprint\u001b[39m(a\u001b[38;5;241m+\u001b[39mb)\n\u001b[0;32m      5\u001b[0m add(\u001b[38;5;241m20\u001b[39m,\u001b[38;5;241m10\u001b[39m)\n\u001b[1;32m----> 6\u001b[0m add(\u001b[38;5;241m10\u001b[39m)\n",
      "\u001b[1;31mTypeError\u001b[0m: add() missing 1 required positional argument: 'b'"
     ]
    }
   ],
   "source": [
    "#required argument \n",
    "def add(a,b):\n",
    "    print(a+b)\n",
    "\n",
    "add(20,10)\n",
    "add(10)  #we should pass equal values as mentioned in the parameter "
   ]
  },
  {
   "cell_type": "code",
   "execution_count": 10,
   "id": "c0225534-5982-47df-ad2a-ba936cf1139b",
   "metadata": {},
   "outputs": [
    {
     "name": "stdout",
     "output_type": "stream",
     "text": [
      "2\n",
      "4\n",
      "6\n",
      "8\n",
      "10\n",
      "12\n",
      "14\n",
      "16\n",
      "18\n",
      "20\n",
      "22\n",
      "24\n",
      "26\n",
      "28\n",
      "30\n",
      "32\n",
      "34\n",
      "36\n",
      "38\n",
      "40\n",
      "42\n",
      "44\n",
      "46\n",
      "48\n",
      "50\n"
     ]
    }
   ],
   "source": [
    "def evennaturals():\n",
    "    for i in range(1, 26):\n",
    "        print(i * 2)\n",
    "\n",
    "evennaturals()"
   ]
  },
  {
   "cell_type": "code",
   "execution_count": 14,
   "id": "fed810be-6f16-49f5-bfeb-eec41031aa42",
   "metadata": {},
   "outputs": [
    {
     "name": "stdout",
     "output_type": "stream",
     "text": [
      "Mihikaa is 20 years old\n"
     ]
    }
   ],
   "source": [
    "#keyword arguments\n",
    "def student(name,age):\n",
    "    print(name, \"is\", age, \"years old\")\n",
    "\n",
    "student(age=20, name=\"Mihikaa\")   #we have to specify the value"
   ]
  },
  {
   "cell_type": "code",
   "execution_count": 21,
   "id": "145971ec-c8b1-4d7e-9385-309c96c55248",
   "metadata": {},
   "outputs": [
    {
     "name": "stdout",
     "output_type": "stream",
     "text": [
      "All marks: (80, 90, 100, 40)\n",
      "Total: 310\n"
     ]
    }
   ],
   "source": [
    "#variable length argument multi positional\n",
    "\n",
    "def totalmarks(*marks):\n",
    "    print(\"All marks:\", marks)\n",
    "    print(\"Total:\", sum(marks))\n",
    "\n",
    "totalmarks(80, 90, 100, 40)"
   ]
  },
  {
   "cell_type": "code",
   "execution_count": 18,
   "id": "a9fbcdd7-0bb5-4db4-b8bf-cf37a22d0aa4",
   "metadata": {},
   "outputs": [
    {
     "name": "stdout",
     "output_type": "stream",
     "text": [
      "Hello Nihira\n",
      "Hello Mihika\n"
     ]
    }
   ],
   "source": [
    "#default argument\n",
    "\n",
    "def greet(name=\"Nihira\"):\n",
    "    print(\"Hello\", name)\n",
    "\n",
    "greet()\n",
    "greet(\"Mihika\")"
   ]
  },
  {
   "cell_type": "code",
   "execution_count": null,
   "id": "9d07cc5f-5b90-47c1-8b39-04f711842625",
   "metadata": {},
   "outputs": [],
   "source": [
    "#ASSIGNMENT"
   ]
  },
  {
   "cell_type": "code",
   "execution_count": 28,
   "id": "3aa4f364-f3f3-4a2d-bb55-b7f6eefef53d",
   "metadata": {},
   "outputs": [
    {
     "name": "stdout",
     "output_type": "stream",
     "text": [
      "25\n"
     ]
    }
   ],
   "source": [
    "def square(a):\n",
    "    print(a*a)\n",
    "\n",
    "square(5)\n",
    "    "
   ]
  },
  {
   "cell_type": "code",
   "execution_count": 30,
   "id": "00aaea82-d2b8-4a3f-9e3f-cdf9577fb0f9",
   "metadata": {},
   "outputs": [
    {
     "name": "stdout",
     "output_type": "stream",
     "text": [
      "True\n"
     ]
    }
   ],
   "source": [
    "def even(a):\n",
    "    print(a%2==0)\n",
    "\n",
    "even(68)"
   ]
  },
  {
   "cell_type": "code",
   "execution_count": 44,
   "id": "90c6e043-58f6-4bd7-b740-43a0085b454f",
   "metadata": {},
   "outputs": [
    {
     "name": "stdin",
     "output_type": "stream",
     "text": [
      "Enter a number:  6\n"
     ]
    },
    {
     "name": "stdout",
     "output_type": "stream",
     "text": [
      "6 is an even number.\n"
     ]
    }
   ],
   "source": [
    "a = int(input(\"Enter a number: \"))\n",
    "def even(a):\n",
    "    if a%2==0:\n",
    "        print(f\"{a} is an even number.\")\n",
    "    else:\n",
    "         print(f\"{a} is an odd number.\")\n",
    "\n",
    "even(a)"
   ]
  },
  {
   "cell_type": "code",
   "execution_count": 43,
   "id": "b06adff7-8edb-436d-8938-06631a661e30",
   "metadata": {},
   "outputs": [
    {
     "ename": "SyntaxError",
     "evalue": "invalid non-printable character U+00A0 (109358357.py, line 7)",
     "output_type": "error",
     "traceback": [
      "\u001b[1;36m  Cell \u001b[1;32mIn[43], line 7\u001b[1;36m\u001b[0m\n\u001b[1;33m    \u001b[0m\n\u001b[1;37m    ^\u001b[0m\n\u001b[1;31mSyntaxError\u001b[0m\u001b[1;31m:\u001b[0m invalid non-printable character U+00A0\n"
     ]
    }
   ],
   "source": [
    "def even(a):\n",
    "    if a%2==0:\n",
    "        print(\"even\")\n",
    "    else:\n",
    "        print(\"odd\")\n",
    "a= int(input(\"enter a number\"))\n",
    "       \n",
    "even(a)"
   ]
  },
  {
   "cell_type": "code",
   "execution_count": 45,
   "id": "a46a39e0-cd0c-459f-9393-51e1e9dab20a",
   "metadata": {},
   "outputs": [
    {
     "name": "stdin",
     "output_type": "stream",
     "text": [
      "Enter a number:  8\n",
      "Enter a number:  9\n"
     ]
    },
    {
     "name": "stdout",
     "output_type": "stream",
     "text": [
      "17\n"
     ]
    }
   ],
   "source": [
    "a= int(input(\"Enter a number: \"))\n",
    "b= int(input(\"Enter a number: \"))\n",
    "def sum():      \n",
    "    print(a+b)\n",
    "\n",
    "sum()"
   ]
  },
  {
   "cell_type": "code",
   "execution_count": 46,
   "id": "eea6dfd9-f96d-424f-b6a6-cd77a0b22034",
   "metadata": {},
   "outputs": [
    {
     "name": "stdout",
     "output_type": "stream",
     "text": [
      "The largest element is: 99\n"
     ]
    }
   ],
   "source": [
    "def find_largest(numbers):\n",
    "    if not numbers:\n",
    "        print(\"The list is empty.\")\n",
    "    else:\n",
    "        largest = numbers[0]\n",
    "        for num in numbers:\n",
    "            if num > largest:\n",
    "                largest = num\n",
    "        print(\"The largest element is:\", largest)\n",
    "\n",
    "# Example usage\n",
    "my_list = [4, 15, 2, 99, 23, 10]\n",
    "find_largest(my_list)\n"
   ]
  },
  {
   "cell_type": "code",
   "execution_count": 48,
   "id": "3c9f0f02-b392-415a-abcf-c4aa2e897276",
   "metadata": {},
   "outputs": [
    {
     "name": "stdin",
     "output_type": "stream",
     "text": [
      "Enter a number:  6\n"
     ]
    },
    {
     "name": "stdout",
     "output_type": "stream",
     "text": [
      "Factorial is: 720\n"
     ]
    }
   ],
   "source": [
    "a = int(input(\"Enter a number: \"))\n",
    "\n",
    "def factorial(n, result=1):\n",
    "    if n == 0:\n",
    "        print(f\"Factorial is: {result}\")\n",
    "    else:\n",
    "        factorial(n - 1, result * n)\n",
    "\n",
    "factorial(a)\n"
   ]
  },
  {
   "cell_type": "code",
   "execution_count": 50,
   "id": "d13dc7ac-4083-4f9e-9939-54d3a16d5d25",
   "metadata": {},
   "outputs": [
    {
     "name": "stdout",
     "output_type": "stream",
     "text": [
      "The largest element is: 1100\n"
     ]
    }
   ],
   "source": [
    "def largest(numbers):\n",
    "    largest = numbers[0]\n",
    "    for num in numbers:\n",
    "        if num > largest:\n",
    "            largest = num\n",
    "    print(\"The largest element is:\", largest)\n",
    "\n",
    "list = [40,80,90,1100]\n",
    "largest(list)\n"
   ]
  },
  {
   "cell_type": "code",
   "execution_count": 52,
   "id": "5abba215-fc49-41b2-a6ee-d99dfcc9ad07",
   "metadata": {},
   "outputs": [
    {
     "name": "stdin",
     "output_type": "stream",
     "text": [
      "Enter number of terms:  9\n"
     ]
    },
    {
     "name": "stdout",
     "output_type": "stream",
     "text": [
      "0\n",
      "1\n",
      "1\n",
      "2\n",
      "3\n",
      "5\n",
      "8\n",
      "13\n",
      "21\n"
     ]
    }
   ],
   "source": [
    "def fibonacci(n):\n",
    "    a = 0\n",
    "    b = 1\n",
    "    for i in range(n):\n",
    "        print(a)\n",
    "        a, b = b, a + b\n",
    "\n",
    "n = int(input(\"Enter number of terms: \"))\n",
    "fibonacci(n)\n"
   ]
  },
  {
   "cell_type": "code",
   "execution_count": 53,
   "id": "60585bc3-bfb3-4b63-a885-5492525bc0f2",
   "metadata": {},
   "outputs": [
    {
     "name": "stdout",
     "output_type": "stream",
     "text": [
      "Greatest number is: 8\n"
     ]
    }
   ],
   "source": [
    "def largest(a, b, c):\n",
    "    if a > b:\n",
    "        if a > c:\n",
    "            print(\"Greatest number is:\", a)\n",
    "        else:\n",
    "            print(\"Greatest number is:\", c)\n",
    "    else:\n",
    "        if b > c:\n",
    "            print(\"Greatest number is:\", b)\n",
    "        else:\n",
    "            print(\"Greatest number is:\", c)\n",
    "\n",
    "largest(4,8,7)"
   ]
  },
  {
   "cell_type": "code",
   "execution_count": 54,
   "id": "12b9157e-e8bb-435d-9400-ca7ceb6a3f26",
   "metadata": {},
   "outputs": [
    {
     "name": "stdout",
     "output_type": "stream",
     "text": [
      "Greatest number is: 11\n"
     ]
    }
   ],
   "source": [
    "def largest(a, b, c):\n",
    "    if a > b:\n",
    "        if a > c:\n",
    "            print(\"Greatest number is:\", a)\n",
    "        else:\n",
    "            print(\"Greatest number is:\", c)\n",
    "    else:\n",
    "        if b > c:\n",
    "            print(\"Greatest number is:\", b)\n",
    "        else:\n",
    "            print(\"Greatest number is:\", c)\n",
    "\n",
    "largest(8,10,11)"
   ]
  },
  {
   "cell_type": "code",
   "execution_count": 57,
   "id": "cfedd9e7-9793-4f86-9683-2a8205642088",
   "metadata": {},
   "outputs": [
    {
     "name": "stdin",
     "output_type": "stream",
     "text": [
      "Enter a string:  MIhIkaaaa\n"
     ]
    },
    {
     "name": "stdout",
     "output_type": "stream",
     "text": [
      "Number of vowels: 6\n"
     ]
    }
   ],
   "source": [
    "def countvowels(a):\n",
    "    vowels = \"aeiouAEIOU\"\n",
    "    count = 0\n",
    "    for char in a:\n",
    "        if char in vowels:\n",
    "            count += 1\n",
    "    print(\"Number of vowels:\", count)\n",
    "\n",
    "string = str(input(\"Enter a string: \"))\n",
    "countvowels(string)\n"
   ]
  },
  {
   "cell_type": "code",
   "execution_count": 58,
   "id": "652ccce7-cf05-4277-a8bb-159bef51605e",
   "metadata": {},
   "outputs": [
    {
     "name": "stdout",
     "output_type": "stream",
     "text": [
      "Sum is: 50\n"
     ]
    }
   ],
   "source": [
    "def sum_values(*args):\n",
    "    total = 0\n",
    "    for num in args:\n",
    "        total += num\n",
    "    print(\"Sum is:\", total)\n",
    "\n",
    "sum_values(10, 20, 5, 15)\n"
   ]
  },
  {
   "cell_type": "code",
   "execution_count": 59,
   "id": "2b5da85b-114e-4691-a6e3-9958ef27bb47",
   "metadata": {},
   "outputs": [
    {
     "name": "stdout",
     "output_type": "stream",
     "text": [
      "aakihiM\n"
     ]
    }
   ],
   "source": [
    "def reversestring(a):\n",
    "    reversedstr =\"\"\n",
    "    for char in a:\n",
    "        reversedstr=char+reversedstr\n",
    "    return reversedstr\n",
    "\n",
    "print(reversestring(\"Mihikaa\"))"
   ]
  },
  {
   "cell_type": "code",
   "execution_count": 67,
   "id": "6816b789-34af-45e9-be39-5228e4f285b5",
   "metadata": {},
   "outputs": [
    {
     "name": "stdin",
     "output_type": "stream",
     "text": [
      "Enter a string:  level\n"
     ]
    },
    {
     "name": "stdout",
     "output_type": "stream",
     "text": [
      "It is a palindrome.\n"
     ]
    }
   ],
   "source": [
    "def palindrome(a):\n",
    "    reverseds = \"\"\n",
    "    for char in a:\n",
    "        reverseds = char + reverseds\n",
    "    if a == reverseds:\n",
    "        print(\"It is a palindrome.\")\n",
    "    else:\n",
    "        print(\"It is not a palindrome.\")\n",
    "\n",
    "String = str(input(\"Enter a string: \"))\n",
    "palindrome(String)\n"
   ]
  },
  {
   "cell_type": "code",
   "execution_count": 68,
   "id": "72586a76-a33a-4c3f-a221-24ed9164415f",
   "metadata": {},
   "outputs": [
    {
     "data": {
      "text/plain": [
       "function"
      ]
     },
     "execution_count": 68,
     "metadata": {},
     "output_type": "execute_result"
    }
   ],
   "source": [
    "type(lambda x: x)"
   ]
  },
  {
   "cell_type": "code",
   "execution_count": 69,
   "id": "0ec5523d-f9e4-434d-a252-8ea42443392b",
   "metadata": {},
   "outputs": [
    {
     "name": "stdout",
     "output_type": "stream",
     "text": [
      "Sum is: 50\n"
     ]
    }
   ],
   "source": [
    "def sum_values(*args):\n",
    "    total = 0\n",
    "    for num in args:\n",
    "        total += num\n",
    "    print(\"Sum is:\", total)\n",
    "\n",
    "sum_values(10, 20, 5, 15)"
   ]
  },
  {
   "cell_type": "code",
   "execution_count": 70,
   "id": "a9797d9d-897f-4a39-890a-70f7e0998bf3",
   "metadata": {},
   "outputs": [
    {
     "data": {
      "text/plain": [
       "3"
      ]
     },
     "execution_count": 70,
     "metadata": {},
     "output_type": "execute_result"
    }
   ],
   "source": [
    "len([1, 2, 3])\n"
   ]
  },
  {
   "cell_type": "code",
   "execution_count": 73,
   "id": "919dc6a5-5d23-4876-ba3f-acae9457a6d6",
   "metadata": {},
   "outputs": [
    {
     "name": "stdin",
     "output_type": "stream",
     "text": [
      "Enter a number:  5\n"
     ]
    },
    {
     "name": "stdout",
     "output_type": "stream",
     "text": [
      "25\n"
     ]
    }
   ],
   "source": [
    "a=int(input(\"Enter a number: \"))\n",
    "def square(a):\n",
    "    print(a*a)\n",
    "\n",
    "square(a)"
   ]
  },
  {
   "cell_type": "code",
   "execution_count": 74,
   "id": "88679f9b-d82f-42a2-bd1f-928253654482",
   "metadata": {},
   "outputs": [
    {
     "name": "stdin",
     "output_type": "stream",
     "text": [
      "Enter a number:  5\n",
      "Enter a number:  5\n"
     ]
    },
    {
     "name": "stdout",
     "output_type": "stream",
     "text": [
      "10\n"
     ]
    }
   ],
   "source": [
    "a= int(input(\"Enter a number: \"))\n",
    "b= int(input(\"Enter a number: \"))\n",
    "def sum():      \n",
    "    print(a+b)\n",
    "\n",
    "sum()"
   ]
  },
  {
   "cell_type": "code",
   "execution_count": null,
   "id": "6c5255af-dcb0-4d3c-a5d7-3fb3017c7bec",
   "metadata": {},
   "outputs": [],
   "source": [
    "#LIST\n",
    "#Methods"
   ]
  },
  {
   "cell_type": "code",
   "execution_count": 76,
   "id": "6022b2ff-c5b6-4090-8588-daaa749fa7cf",
   "metadata": {},
   "outputs": [
    {
     "name": "stdout",
     "output_type": "stream",
     "text": [
      "<class 'list'>\n"
     ]
    }
   ],
   "source": [
    "a=[10,80,90]\n",
    "print(type(a))"
   ]
  },
  {
   "cell_type": "code",
   "execution_count": 85,
   "id": "3e9eec22-3098-47af-9f82-b171b628d695",
   "metadata": {},
   "outputs": [
    {
     "name": "stdout",
     "output_type": "stream",
     "text": [
      "[10, 20, 90, 80, 40]\n"
     ]
    }
   ],
   "source": [
    "lstt=[10,20,90,80]\n",
    "lstt.append(40)\n",
    "print(lstt)  #Adds at the last"
   ]
  },
  {
   "cell_type": "code",
   "execution_count": 86,
   "id": "7474f807-ada8-4291-85ee-feeaada6cbb6",
   "metadata": {},
   "outputs": [
    {
     "name": "stdout",
     "output_type": "stream",
     "text": [
      "[10, 20, 70, 90, 80, 40]\n"
     ]
    }
   ],
   "source": [
    "lstt.insert(2,70)\n",
    "print(lstt)      #add value at a specific index"
   ]
  },
  {
   "cell_type": "code",
   "execution_count": 87,
   "id": "53860933-0d6f-456a-93da-3c2d58d9d8e6",
   "metadata": {},
   "outputs": [
    {
     "name": "stdout",
     "output_type": "stream",
     "text": [
      "[10, 20, 70, 90, 80, 40, 1, 2]\n"
     ]
    }
   ],
   "source": [
    "lstt.extend([1,2])\n",
    "print(lstt)      #adds multiple values"
   ]
  },
  {
   "cell_type": "code",
   "execution_count": 88,
   "id": "9419fc2f-c5b3-4442-a852-48c51710f3cf",
   "metadata": {},
   "outputs": [
    {
     "name": "stdout",
     "output_type": "stream",
     "text": [
      "[10, 20, 70, 90, 80, 40, 1]\n"
     ]
    }
   ],
   "source": [
    "lstt.pop()\n",
    "print(lstt)  #remove last item"
   ]
  },
  {
   "cell_type": "code",
   "execution_count": 4,
   "id": "6c4acce1-cc76-4a5d-9fc2-143a748461d0",
   "metadata": {},
   "outputs": [
    {
     "name": "stdout",
     "output_type": "stream",
     "text": [
      "[20, 70, 90, 80, 40, 1]\n"
     ]
    }
   ],
   "source": [
    "lstt=[10,20,70,90,80,40,1]\n",
    "lstt.remove(10)\n",
    "print(lstt)     #remove the value that is specified "
   ]
  },
  {
   "cell_type": "code",
   "execution_count": 15,
   "id": "0b9d8646-be1d-40f5-a28e-5986949a74db",
   "metadata": {},
   "outputs": [
    {
     "data": {
      "text/plain": [
       "3"
      ]
     },
     "execution_count": 15,
     "metadata": {},
     "output_type": "execute_result"
    }
   ],
   "source": [
    "lstt.index(90)"
   ]
  },
  {
   "cell_type": "code",
   "execution_count": 7,
   "id": "2091c6a8-32b6-4aec-8cb5-5c450ee1f65d",
   "metadata": {},
   "outputs": [
    {
     "name": "stdout",
     "output_type": "stream",
     "text": [
      "[1, 20, 40, 70, 80, 90]\n"
     ]
    }
   ],
   "source": [
    "lstt.sort()\n",
    "print(lstt) "
   ]
  },
  {
   "cell_type": "code",
   "execution_count": 16,
   "id": "3d919f8b-a154-4129-9e99-bdf8d3b91c4b",
   "metadata": {},
   "outputs": [
    {
     "data": {
      "text/plain": [
       "1"
      ]
     },
     "execution_count": 16,
     "metadata": {},
     "output_type": "execute_result"
    }
   ],
   "source": [
    "lstt.count(80)"
   ]
  },
  {
   "cell_type": "code",
   "execution_count": 14,
   "id": "74ee272e-c59d-44d8-84f5-be8ad0675e06",
   "metadata": {},
   "outputs": [
    {
     "name": "stdout",
     "output_type": "stream",
     "text": [
      "[1, 40, 80, 90, 70, 20, 10]\n"
     ]
    }
   ],
   "source": [
    "lstt.reverse()\n",
    "print(lstt)  #reverse the list"
   ]
  },
  {
   "cell_type": "code",
   "execution_count": 18,
   "id": "036996fa-9e8b-4255-85ec-6b935789ae7d",
   "metadata": {},
   "outputs": [],
   "source": [
    "lstt.clear() #remove whole list"
   ]
  },
  {
   "cell_type": "code",
   "execution_count": 19,
   "id": "db4c8dba-5f1a-4792-b5bd-81849766f703",
   "metadata": {},
   "outputs": [
    {
     "name": "stdout",
     "output_type": "stream",
     "text": [
      "[]\n"
     ]
    }
   ],
   "source": [
    "print(lstt)"
   ]
  },
  {
   "cell_type": "code",
   "execution_count": null,
   "id": "a70c817e-e818-4269-9abc-2fb8cd1ca7d3",
   "metadata": {},
   "outputs": [],
   "source": [
    "#SLICING"
   ]
  },
  {
   "cell_type": "code",
   "execution_count": 20,
   "id": "00007d3c-481f-4d64-b05d-cc967fe5f7bb",
   "metadata": {},
   "outputs": [
    {
     "name": "stdout",
     "output_type": "stream",
     "text": [
      "[10, 20, 30, 40]\n",
      "[50, 60]\n"
     ]
    }
   ],
   "source": [
    "num=[10,20,30,40,50,60]\n",
    "print(num[0:4])\n",
    "print(num[4:])"
   ]
  },
  {
   "cell_type": "code",
   "execution_count": null,
   "id": "76d8dfb5-103b-40df-93b6-83c40820af7a",
   "metadata": {},
   "outputs": [],
   "source": [
    "#LIST COMPREHENSION"
   ]
  },
  {
   "cell_type": "code",
   "execution_count": 21,
   "id": "6501072c-928e-48bc-86df-1d9b8a2ee53d",
   "metadata": {},
   "outputs": [
    {
     "data": {
      "text/plain": [
       "[4, 9, 16]"
      ]
     },
     "execution_count": 21,
     "metadata": {},
     "output_type": "execute_result"
    }
   ],
   "source": [
    "[i**2 for i in [2,3,4]]"
   ]
  },
  {
   "cell_type": "code",
   "execution_count": 22,
   "id": "7bb38207-2cd9-4e51-a703-462425e93c13",
   "metadata": {},
   "outputs": [
    {
     "data": {
      "text/plain": [
       "[15, 17, 25, 27, 35, 37]"
      ]
     },
     "execution_count": 22,
     "metadata": {},
     "output_type": "execute_result"
    }
   ],
   "source": [
    "[10*i+j for i in[1,2,3] for j in[5,7]]"
   ]
  },
  {
   "cell_type": "code",
   "execution_count": null,
   "id": "c06b38d5-91bb-41af-9073-684172c85fd3",
   "metadata": {},
   "outputs": [],
   "source": []
  }
 ],
 "metadata": {
  "kernelspec": {
   "display_name": "Python [conda env:base] *",
   "language": "python",
   "name": "conda-base-py"
  },
  "language_info": {
   "codemirror_mode": {
    "name": "ipython",
    "version": 3
   },
   "file_extension": ".py",
   "mimetype": "text/x-python",
   "name": "python",
   "nbconvert_exporter": "python",
   "pygments_lexer": "ipython3",
   "version": "3.13.5"
  }
 },
 "nbformat": 4,
 "nbformat_minor": 5
}
