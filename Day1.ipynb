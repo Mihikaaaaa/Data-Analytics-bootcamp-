{
 "cells": [
  {
   "cell_type": "code",
   "execution_count": null,
   "id": "bc7a68c2-5947-4c95-b412-f15f243b3fc7",
   "metadata": {},
   "outputs": [],
   "source": [
    "#datatypes(basic)\n"
   ]
  },
  {
   "cell_type": "code",
   "execution_count": 1,
   "id": "960e54a9-8669-4ede-bac1-ad63296defd5",
   "metadata": {},
   "outputs": [
    {
     "name": "stdout",
     "output_type": "stream",
     "text": [
      "<class 'int'>\n"
     ]
    }
   ],
   "source": [
    "a=5\n",
    "print(type(a))\n"
   ]
  },
  {
   "cell_type": "code",
   "execution_count": 2,
   "id": "ec654e6d-fa2b-4137-81cd-c110e2567845",
   "metadata": {},
   "outputs": [
    {
     "name": "stdout",
     "output_type": "stream",
     "text": [
      "<class 'float'>\n"
     ]
    }
   ],
   "source": [
    "a=3.089\n",
    "print(type(a))"
   ]
  },
  {
   "cell_type": "code",
   "execution_count": 4,
   "id": "bd7a905d-f88e-4e12-945d-f0d00aa47dec",
   "metadata": {},
   "outputs": [
    {
     "name": "stdout",
     "output_type": "stream",
     "text": [
      "<class 'bool'>\n"
     ]
    }
   ],
   "source": [
    "a=True\n",
    "print(type(a))"
   ]
  },
  {
   "cell_type": "code",
   "execution_count": 12,
   "id": "8b52c9eb-ce93-4ba1-9e4d-faa148c3672d",
   "metadata": {},
   "outputs": [
    {
     "name": "stdout",
     "output_type": "stream",
     "text": [
      "<class 'int'>\n"
     ]
    }
   ],
   "source": [
    "a=3.9990\n",
    "b=int(a)\n",
    "print(type(b))"
   ]
  },
  {
   "cell_type": "code",
   "execution_count": 13,
   "id": "ed16c4cc-7d0d-4b3a-87a3-8fc4461db038",
   "metadata": {},
   "outputs": [
    {
     "name": "stdout",
     "output_type": "stream",
     "text": [
      "<class 'str'>\n"
     ]
    }
   ],
   "source": [
    "a=3\n",
    "print(type(str(a)))"
   ]
  },
  {
   "cell_type": "code",
   "execution_count": 14,
   "id": "d77819aa-22bc-40b9-bb22-220922770468",
   "metadata": {},
   "outputs": [
    {
     "name": "stdout",
     "output_type": "stream",
     "text": [
      "<class 'float'>\n"
     ]
    }
   ],
   "source": [
    "a=9\n",
    "print(type(float(a)))"
   ]
  },
  {
   "cell_type": "code",
   "execution_count": 15,
   "id": "9c40d7bc-e0f7-4447-abcf-a0b58c4886c2",
   "metadata": {},
   "outputs": [
    {
     "name": "stdout",
     "output_type": "stream",
     "text": [
      "<class 'str'>\n"
     ]
    }
   ],
   "source": [
    "a=3\n",
    "print(type(str(a)))"
   ]
  },
  {
   "cell_type": "code",
   "execution_count": 16,
   "id": "725faafa-2ccd-4298-9b6f-873c885ecf75",
   "metadata": {},
   "outputs": [
    {
     "name": "stdout",
     "output_type": "stream",
     "text": [
      "<class 'bool'>\n"
     ]
    }
   ],
   "source": [
    "a=3\n",
    "print(type(bool(a)))"
   ]
  },
  {
   "cell_type": "code",
   "execution_count": null,
   "id": "5bb7047f-6615-45d0-88fa-127586e32547",
   "metadata": {},
   "outputs": [],
   "source": [
    "#arthimetic operators"
   ]
  },
  {
   "cell_type": "code",
   "execution_count": null,
   "id": "5f09f8fb-0496-4594-9338-24407b505d6f",
   "metadata": {},
   "outputs": [],
   "source": [
    "+,-,*,/,%,//,**"
   ]
  },
  {
   "cell_type": "code",
   "execution_count": 19,
   "id": "73411659-e8da-41c7-bbcd-f523121af9c2",
   "metadata": {},
   "outputs": [
    {
     "name": "stdout",
     "output_type": "stream",
     "text": [
      "7\n"
     ]
    }
   ],
   "source": [
    "a=3\n",
    "b=4\n",
    "print(a+b)"
   ]
  },
  {
   "cell_type": "code",
   "execution_count": 20,
   "id": "a3cd0f67-6e15-4b6c-a86c-1e45eef7e353",
   "metadata": {},
   "outputs": [
    {
     "name": "stdout",
     "output_type": "stream",
     "text": [
      "-1\n"
     ]
    }
   ],
   "source": [
    "a=3\n",
    "b=4\n",
    "print(a-b)"
   ]
  },
  {
   "cell_type": "code",
   "execution_count": 21,
   "id": "9655ae67-091e-4182-80e9-680320f6a3b1",
   "metadata": {},
   "outputs": [
    {
     "name": "stdout",
     "output_type": "stream",
     "text": [
      "0.75\n"
     ]
    }
   ],
   "source": [
    "a=3\n",
    "b=4\n",
    "print(a/b)"
   ]
  },
  {
   "cell_type": "code",
   "execution_count": 22,
   "id": "f098ecb4-eea1-4301-ab91-489f218eeaea",
   "metadata": {},
   "outputs": [
    {
     "name": "stdout",
     "output_type": "stream",
     "text": [
      "12\n"
     ]
    }
   ],
   "source": [
    "a=3\n",
    "b=4\n",
    "print(a*b)"
   ]
  },
  {
   "cell_type": "code",
   "execution_count": 23,
   "id": "16b55651-03ff-49ec-93f4-ef92feb6f3df",
   "metadata": {},
   "outputs": [
    {
     "name": "stdout",
     "output_type": "stream",
     "text": [
      "3\n"
     ]
    }
   ],
   "source": [
    "a=3\n",
    "b=4\n",
    "print(a%b)"
   ]
  },
  {
   "cell_type": "code",
   "execution_count": 24,
   "id": "7987fc6c-9edf-4fb6-998b-ce5ea5ec1cfc",
   "metadata": {},
   "outputs": [
    {
     "name": "stdout",
     "output_type": "stream",
     "text": [
      "81\n"
     ]
    }
   ],
   "source": [
    "a=3\n",
    "b=4\n",
    "print(a**b)"
   ]
  },
  {
   "cell_type": "code",
   "execution_count": 28,
   "id": "9f59a410-a3f0-4d5e-9b00-70d2e40a20a6",
   "metadata": {},
   "outputs": [
    {
     "name": "stdout",
     "output_type": "stream",
     "text": [
      "0\n"
     ]
    }
   ],
   "source": [
    "a=3\n",
    "b=4\n",
    "print(a//b)"
   ]
  },
  {
   "cell_type": "code",
   "execution_count": 25,
   "id": "8f4c1f99-d152-4736-b48b-92348a363812",
   "metadata": {},
   "outputs": [
    {
     "name": "stdin",
     "output_type": "stream",
     "text": [
      "Enter the number 6\n"
     ]
    },
    {
     "name": "stdout",
     "output_type": "stream",
     "text": [
      "10\n"
     ]
    }
   ],
   "source": [
    "a=int(input(\"Enter the number\"))\n",
    "b=4\n",
    "print(a+b)"
   ]
  },
  {
   "cell_type": "code",
   "execution_count": 26,
   "id": "c4649dbd-729f-4a7b-b310-02412f21ba02",
   "metadata": {},
   "outputs": [
    {
     "name": "stdin",
     "output_type": "stream",
     "text": [
      "Enter the number 5\n",
      "Enter the number 7\n"
     ]
    },
    {
     "name": "stdout",
     "output_type": "stream",
     "text": [
      "12\n"
     ]
    }
   ],
   "source": [
    "a=int(input(\"Enter the number\"))\n",
    "b=int(input(\"Enter the number\"))\n",
    "print(a+b)"
   ]
  },
  {
   "cell_type": "code",
   "execution_count": null,
   "id": "785dca3f-017b-49c1-b9bf-3bf88c9a4f19",
   "metadata": {},
   "outputs": [],
   "source": [
    "#comparison operators"
   ]
  },
  {
   "cell_type": "code",
   "execution_count": null,
   "id": "61429c92-c31b-4c7c-bd00-4e89f096935f",
   "metadata": {},
   "outputs": [],
   "source": [
    "<,>,<=,>=,=="
   ]
  },
  {
   "cell_type": "code",
   "execution_count": 29,
   "id": "d17329ea-b531-4927-9950-dfe17d9a6696",
   "metadata": {},
   "outputs": [
    {
     "name": "stdout",
     "output_type": "stream",
     "text": [
      "False\n"
     ]
    }
   ],
   "source": [
    "a=10\n",
    "b=15\n",
    "print(a>b)\n"
   ]
  },
  {
   "cell_type": "code",
   "execution_count": 30,
   "id": "199c993d-c69f-4bc5-bd8e-ca314aabfea2",
   "metadata": {},
   "outputs": [
    {
     "name": "stdout",
     "output_type": "stream",
     "text": [
      "True\n"
     ]
    }
   ],
   "source": [
    "a=10\n",
    "b=15\n",
    "print(a<b)\n"
   ]
  },
  {
   "cell_type": "code",
   "execution_count": 31,
   "id": "716c28ce-4314-402b-8dac-7bc2b7b8855e",
   "metadata": {},
   "outputs": [
    {
     "name": "stdout",
     "output_type": "stream",
     "text": [
      "False\n"
     ]
    }
   ],
   "source": [
    "a=10\n",
    "b=15\n",
    "print(a==b)"
   ]
  },
  {
   "cell_type": "code",
   "execution_count": 32,
   "id": "b96eecaf-b7b0-4f22-a5e7-f62e7bbf2fe8",
   "metadata": {},
   "outputs": [
    {
     "name": "stdout",
     "output_type": "stream",
     "text": [
      "True\n"
     ]
    }
   ],
   "source": [
    "a=10\n",
    "b=15\n",
    "print(a<=b)"
   ]
  },
  {
   "cell_type": "code",
   "execution_count": 33,
   "id": "87a6d6a4-d66b-43ff-8ba4-fbbec477691c",
   "metadata": {},
   "outputs": [
    {
     "name": "stdout",
     "output_type": "stream",
     "text": [
      "False\n"
     ]
    }
   ],
   "source": [
    "a=10\n",
    "b=15\n",
    "print(a>=b)"
   ]
  },
  {
   "cell_type": "code",
   "execution_count": 4,
   "id": "a9fa5c0c-07ee-43b2-a200-a49c7491aa7e",
   "metadata": {},
   "outputs": [
    {
     "name": "stdin",
     "output_type": "stream",
     "text": [
      "Enter the number 4\n",
      "Enter the number 5\n",
      "Enter the number 6\n"
     ]
    },
    {
     "name": "stdout",
     "output_type": "stream",
     "text": [
      "15\n",
      "5.0\n",
      "False\n",
      "3.0\n"
     ]
    }
   ],
   "source": [
    "#Question\n",
    "x=int(input(\"Enter the number\"))\n",
    "y=int(input(\"Enter the number\"))\n",
    "z=int(input(\"Enter the number\"))\n",
    "b=(x+y+z)\n",
    "c=(b/3)\n",
    "print(b)\n",
    "print(c)\n",
    "print(c>50)\n",
    "print(b/5)\n"
   ]
  },
  {
   "cell_type": "code",
   "execution_count": null,
   "id": "89140f9d-239d-4636-9b11-6b0546c89fbe",
   "metadata": {},
   "outputs": [],
   "source": [
    "#logical operator"
   ]
  },
  {
   "cell_type": "code",
   "execution_count": null,
   "id": "835b94a9-b17e-4377-a6ca-6c3d1cebbdbe",
   "metadata": {},
   "outputs": [],
   "source": [
    "and,or,not"
   ]
  },
  {
   "cell_type": "code",
   "execution_count": 4,
   "id": "a38e8d20-cb20-46b6-9b54-2b145a13af88",
   "metadata": {},
   "outputs": [
    {
     "name": "stdout",
     "output_type": "stream",
     "text": [
      "False\n"
     ]
    }
   ],
   "source": [
    "a=10\n",
    "b=10\n",
    "print(a>b and a==b)"
   ]
  },
  {
   "cell_type": "code",
   "execution_count": 3,
   "id": "ea42c8b4-590c-45b3-8554-df7880fe850d",
   "metadata": {},
   "outputs": [
    {
     "name": "stdout",
     "output_type": "stream",
     "text": [
      "True\n"
     ]
    }
   ],
   "source": [
    "a=10\n",
    "b=10\n",
    "print(a>b or a==b)"
   ]
  },
  {
   "cell_type": "code",
   "execution_count": 6,
   "id": "7a725ec0-51d4-4934-8dbd-e92fe153af60",
   "metadata": {},
   "outputs": [
    {
     "name": "stdout",
     "output_type": "stream",
     "text": [
      "False\n"
     ]
    }
   ],
   "source": [
    "a=10\n",
    "b=10\n",
    "print(not( a==b))"
   ]
  },
  {
   "cell_type": "code",
   "execution_count": null,
   "id": "160ecca5-5566-463c-9fe8-acd299c2c114",
   "metadata": {},
   "outputs": [],
   "source": [
    "#Membership operator"
   ]
  },
  {
   "cell_type": "code",
   "execution_count": null,
   "id": "41a88c2f-4a4e-448f-99ce-bf452c9d951e",
   "metadata": {},
   "outputs": [],
   "source": [
    "in, not in"
   ]
  },
  {
   "cell_type": "code",
   "execution_count": 9,
   "id": "0855a8b5-b3fa-48c3-b50e-0b85766f86cd",
   "metadata": {},
   "outputs": [
    {
     "name": "stdout",
     "output_type": "stream",
     "text": [
      "2\n",
      "4\n",
      "3\n",
      "5\n"
     ]
    }
   ],
   "source": [
    "a=[2,4,3,5]\n",
    "for x in a:\n",
    "    print(x)"
   ]
  },
  {
   "cell_type": "code",
   "execution_count": 10,
   "id": "20c07194-5490-4f91-b508-f634da930914",
   "metadata": {},
   "outputs": [
    {
     "name": "stdout",
     "output_type": "stream",
     "text": [
      "False\n"
     ]
    }
   ],
   "source": [
    "a=[2,4,3,5]\n",
    "b=[2,6,3,9]\n",
    "print(a in b)"
   ]
  },
  {
   "cell_type": "code",
   "execution_count": 13,
   "id": "da74442e-baa5-4810-9512-089f23256daa",
   "metadata": {},
   "outputs": [
    {
     "name": "stdout",
     "output_type": "stream",
     "text": [
      "False\n"
     ]
    }
   ],
   "source": [
    "a=[2,4,3,5]\n",
    "b=[2,4,3,5]\n",
    "print(a in b)"
   ]
  },
  {
   "cell_type": "code",
   "execution_count": 14,
   "id": "af0d4440-c895-470c-8886-d17f03aea2b2",
   "metadata": {},
   "outputs": [
    {
     "name": "stdout",
     "output_type": "stream",
     "text": [
      "True\n"
     ]
    }
   ],
   "source": [
    "a=\"python is imp\"\n",
    "print(\"is\" in a)"
   ]
  },
  {
   "cell_type": "code",
   "execution_count": 15,
   "id": "a777b346-0c24-418e-ad1d-14a97bdc044f",
   "metadata": {},
   "outputs": [
    {
     "name": "stdout",
     "output_type": "stream",
     "text": [
      "True\n"
     ]
    }
   ],
   "source": [
    "a=\"python is very imp\"\n",
    "print(\"very\" in a)"
   ]
  },
  {
   "cell_type": "code",
   "execution_count": 16,
   "id": "d16980ff-ec4e-48b4-b85b-70212313ca8e",
   "metadata": {},
   "outputs": [
    {
     "name": "stdout",
     "output_type": "stream",
     "text": [
      "False\n"
     ]
    }
   ],
   "source": [
    "a=\"python is imp\"\n",
    "print(\"very\" in a)"
   ]
  },
  {
   "cell_type": "code",
   "execution_count": 1,
   "id": "21fe56de-b078-43d5-b70c-1f832c71ef6d",
   "metadata": {},
   "outputs": [
    {
     "name": "stdin",
     "output_type": "stream",
     "text": [
      "Enter the number 3\n",
      "Enter the number 4\n"
     ]
    },
    {
     "name": "stdout",
     "output_type": "stream",
     "text": [
      "7\n",
      "12\n",
      "False\n",
      "False\n",
      "False\n"
     ]
    }
   ],
   "source": [
    "#Question\n",
    "a=int(input(\"Enter the number\"))\n",
    "b=int(input(\"Enter the number\"))\n",
    "x=(a+b)\n",
    "y=(a*b)\n",
    "print(x)\n",
    "print(y)\n",
    "print(y==x)\n",
    "print(x>y)\n",
    "w=[10,20,30,40,50]\n",
    "print(3 in w)"
   ]
  },
  {
   "cell_type": "code",
   "execution_count": null,
   "id": "a0ee667c-4281-407a-9fcc-f3c135963b58",
   "metadata": {},
   "outputs": [],
   "source": [
    "#Identity operators"
   ]
  },
  {
   "cell_type": "code",
   "execution_count": 23,
   "id": "4c29d63e-bc02-4809-bf73-4f4ad1f6b820",
   "metadata": {},
   "outputs": [
    {
     "name": "stdout",
     "output_type": "stream",
     "text": [
      "True\n"
     ]
    }
   ],
   "source": [
    "a=6\n",
    "b=7\n",
    "print(a is not b)"
   ]
  },
  {
   "cell_type": "code",
   "execution_count": 24,
   "id": "d0a6f174-4882-439e-b0ff-228e66c90031",
   "metadata": {},
   "outputs": [
    {
     "name": "stdout",
     "output_type": "stream",
     "text": [
      "True\n"
     ]
    }
   ],
   "source": [
    "a=6\n",
    "b=6\n",
    "print(a is b)"
   ]
  },
  {
   "cell_type": "code",
   "execution_count": null,
   "id": "eaf659d4-85df-44fd-9790-4eb9226936d5",
   "metadata": {},
   "outputs": [],
   "source": [
    "#Bitwise Operators"
   ]
  },
  {
   "cell_type": "code",
   "execution_count": 9,
   "id": "3f6d67b8-5adc-4e63-b243-2faab8eb417d",
   "metadata": {},
   "outputs": [
    {
     "name": "stdout",
     "output_type": "stream",
     "text": [
      "1\n"
     ]
    }
   ],
   "source": [
    "a=5\n",
    "b=3\n",
    "print(a & b)"
   ]
  },
  {
   "cell_type": "code",
   "execution_count": 10,
   "id": "e18e8b64-0cc3-40de-96cd-9219fe2f9df0",
   "metadata": {},
   "outputs": [
    {
     "name": "stdout",
     "output_type": "stream",
     "text": [
      "7\n"
     ]
    }
   ],
   "source": [
    "a=5\n",
    "b=3\n",
    "print(a | b)"
   ]
  }
 ],
 "metadata": {
  "kernelspec": {
   "display_name": "Python [conda env:base] *",
   "language": "python",
   "name": "conda-base-py"
  },
  "language_info": {
   "codemirror_mode": {
    "name": "ipython",
    "version": 3
   },
   "file_extension": ".py",
   "mimetype": "text/x-python",
   "name": "python",
   "nbconvert_exporter": "python",
   "pygments_lexer": "ipython3",
   "version": "3.13.5"
  }
 },
 "nbformat": 4,
 "nbformat_minor": 5
}
